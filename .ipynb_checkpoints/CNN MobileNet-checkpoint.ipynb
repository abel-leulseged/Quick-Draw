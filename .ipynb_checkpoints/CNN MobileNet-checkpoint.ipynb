{
 "cells": [
  {
   "cell_type": "code",
   "execution_count": 1,
   "metadata": {
    "_cell_guid": "b1076dfc-b9ad-4769-8c92-a6c4dae69d19",
    "_uuid": "8f2839f25d086af736a60e9eeb907d3b93b6e0e5"
   },
   "outputs": [
    {
     "ename": "SyntaxError",
     "evalue": "invalid syntax (<ipython-input-1-ff4ab84eefdd>, line 35)",
     "output_type": "error",
     "traceback": [
      "\u001b[0;36m  File \u001b[0;32m\"<ipython-input-1-ff4ab84eefdd>\"\u001b[0;36m, line \u001b[0;32m35\u001b[0m\n\u001b[0;31m    Input data files are available in the \"../input/\" directory.\u001b[0m\n\u001b[0m             ^\u001b[0m\n\u001b[0;31mSyntaxError\u001b[0m\u001b[0;31m:\u001b[0m invalid syntax\n"
     ]
    }
   ],
   "source": [
    "# This Python 3 environment comes with many helpful analytics libraries installed\n",
    "# It is defined by the kaggle/python docker image: https://github.com/kaggle/docker-python\n",
    "# For example, here's several helpful packages to load in \n",
    "from glob import glob\n",
    "import re\n",
    "import ast\n",
    "import cv2\n",
    "import csv\n",
    "import time\n",
    "import ast\n",
    "import urllib\n",
    "from PIL import Image, ImageDraw\n",
    "from tqdm import tqdm\n",
    "from dask import bag, threaded\n",
    "import matplotlib\n",
    "import matplotlib.pyplot as pltc\n",
    "import numpy as np # linear algebra\n",
    "import pandas as pd # data processing, CSV file I/O (e.g. pd.read_csv)\n",
    "import tensorflow as tf\n",
    "import matplotlib.pyplot as plt\n",
    "from dask import bag, threaded\n",
    "from tensorflow import keras\n",
    "from tensorflow.keras.layers import Conv2D, MaxPooling2D\n",
    "from tensorflow.keras.layers import Dense, Dropout, Flatten, Activation\n",
    "from tensorflow.keras.metrics import categorical_accuracy, top_k_categorical_accuracy, categorical_crossentropy\n",
    "from tensorflow.keras.models import Sequential\n",
    "from tensorflow.keras.callbacks import EarlyStopping, ReduceLROnPlateau, ModelCheckpoint\n",
    "from tensorflow.keras.optimizers import Adam\n",
    "from tensorflow.keras.applications.nasnet import NASNetMobile\n",
    "from tensorflow.keras.preprocessing import image\n",
    "from tensorflow.keras.models import Model\n",
    "from tensorflow.keras.layers import Dense, GlobalAveragePooling2D\n",
    "from tensorflow.keras import backend as K\n",
    "from tensorflow.keras.applications import MobileNet\n",
    "Input data files are available in the \"../input/\" directory.\n",
    "# For example, running this (by clicking run or pressing Shift+Enter) will list the files in the input directory\n",
    "BASE_SIZE = 256\n",
    "DP_DIR = '../input/shuffle-csvs/'\n",
    "INPUT_DIR = '../input/quickdraw-doodle-recognition/'\n",
    "NCSVS = 100\n",
    "NCATS = 340\n",
    "import os\n",
    "print(os.listdir(\"../input\"))\n",
    "\n",
    "# Any results you write to the current directory are saved as output."
   ]
  },
  {
   "cell_type": "code",
   "execution_count": null,
   "metadata": {
    "_uuid": "95cca8690a82b00d26f4e63a635e746e1f55389c"
   },
   "outputs": [],
   "source": [
    "startTime = time.time()"
   ]
  },
  {
   "cell_type": "code",
   "execution_count": null,
   "metadata": {
    "_cell_guid": "79c7e3d0-c299-4dcb-8224-4455121ee9b0",
    "_uuid": "d629ff2d2480ee46fbb7e2d37f6b5fab8052498a"
   },
   "outputs": [],
   "source": [
    "#clean spaces in name\n",
    "classes_path = os.listdir(INPUT_DIR + 'train_simplified/')\n",
    "classes_path = sorted(classes_path, key=lambda s: s.lower())\n",
    "class_dict = {x[:-4].replace(\" \", \"_\"):i for i, x in enumerate(classes_path)}\n",
    "labels = {x[:-4].replace(\" \", \"_\") for i, x in enumerate(classes_path)}\n",
    "\n",
    "n_labels = len(labels)\n",
    "print(\"Number of labels: {}\".format(n_labels))\n",
    "\n",
    "fileList = glob(INPUT_DIR + \"train_simplified/*.csv\")     \n",
    "\n",
    "n_files = n_labels #number of csv files same as labels due to stupid structure.\n",
    "\n",
    "#time is sacred HARDCODED FOR THE COMP\n",
    "n_records = 49707919\n",
    "size = 80\n",
    "\n",
    "#for f in fileList: saving time\n",
    "#    n_records += sum(1 for line in open(f))\n",
    "print(\"Number of records: {}\".format(n_records))"
   ]
  },
  {
   "cell_type": "code",
   "execution_count": null,
   "metadata": {
    "_uuid": "4a5825305429b7f4095ba371467a477ae0a49472"
   },
   "outputs": [],
   "source": [
    "def top_3_accuracy(y_true, y_pred):\n",
    "    return top_k_categorical_accuracy(y_true, y_pred, k=3)"
   ]
  },
  {
   "cell_type": "code",
   "execution_count": null,
   "metadata": {
    "_uuid": "6c5311002def8107d5c73f866b399446a6a05ed4"
   },
   "outputs": [],
   "source": [
    "# to image from stroke\n",
    "def drawing_to_np(drawing, shape=(size, size)):\n",
    "    drawing = eval(drawing)\n",
    "    fig, ax = plt.subplots()\n",
    "    for x,y in drawing:\n",
    "        ax.plot(x, y, marker='.')\n",
    "        ax.axis('off')\n",
    "    fig.canvas.draw()\n",
    "    # Convert images to numpy arrat\n",
    "    np_drawing = np.array(fig.canvas.renderer._renderer)\n",
    "    plt.close(fig)\n",
    "    img = cv2.resize(np_drawing, shape)\n",
    "    img_gray = cv2.cvtColor(img, cv2.COLOR_RGB2GRAY)\n",
    "    img_expanded = img_gray[:, :, np.newaxis]\n",
    "    return img_expanded"
   ]
  },
  {
   "cell_type": "code",
   "execution_count": null,
   "metadata": {
    "_uuid": "9102e216d298ee8d3f9c1ff7991ada57119e2323"
   },
   "outputs": [],
   "source": [
    "def draw_cv2_reshape_normalized(raw_strokes, size=size, lw=6):\n",
    "    img = np.zeros((BASE_SIZE, BASE_SIZE), np.uint8)\n",
    "    for stroke in raw_strokes:\n",
    "        for i in range(len(stroke[0]) - 1):\n",
    "            _ = cv2.line(img, (stroke[0][i], stroke[1][i]), (stroke[0][i + 1], stroke[1][i + 1]), 255, lw)\n",
    "\n",
    "    img = cv2.resize(img, (size, size))\n",
    "    img = img / 255.\n",
    "    img = img[:, :, np.newaxis]\n",
    "    return img\n",
    "    \n",
    "    "
   ]
  },
  {
   "cell_type": "code",
   "execution_count": null,
   "metadata": {
    "_uuid": "97522d9de29d9ff35c5086f55f2c8eef64d84f90"
   },
   "outputs": [],
   "source": [
    "def draw_cv2(raw_strokes, size=256, lw=6):\n",
    "    img = np.zeros((BASE_SIZE, BASE_SIZE), np.uint8)\n",
    "    for stroke in raw_strokes:\n",
    "        for i in range(len(stroke[0]) - 1):\n",
    "            _ = cv2.line(img, (stroke[0][i], stroke[1][i]), (stroke[0][i + 1], stroke[1][i + 1]), 255, lw)\n",
    "    if size != BASE_SIZE:\n",
    "        return cv2.resize(img, (size, size))\n",
    "    else:\n",
    "        return img\n",
    "\n",
    "#ADD DATA AUGMENTATION TO BOOST\n",
    "def image_generator(size, batchsize, ks, lw=6):\n",
    "    while True:\n",
    "        for k in np.random.permutation(ks):\n",
    "            filename = os.path.join(DP_DIR, 'train_k{}.csv.gz'.format(k))\n",
    "            for df in pd.read_csv(filename, chunksize=batchsize):\n",
    "                df['drawing'] = df['drawing'].apply(ast.literal_eval)\n",
    "                x = np.zeros((len(df), size, size))\n",
    "                for i, raw_strokes in enumerate(df.drawing.values):\n",
    "                    x[i] = draw_cv2(raw_strokes, size=size, lw=lw)\n",
    "                x = x / 255.\n",
    "                x = x.reshape((len(df), size, size, 1)).astype(np.float32)\n",
    "                y = tf.keras.utils.to_categorical(df.y, num_classes=NCATS)\n",
    "                yield x, y\n",
    "\n",
    "def df_to_image_array(df, size=size, lw=6):\n",
    "    df['drawing'] = df['drawing'].apply(ast.literal_eval)\n",
    "    x = np.zeros((len(df), size, size))\n",
    "    for i, raw_strokes in enumerate(df.drawing.values):\n",
    "        x[i] = draw_cv2(raw_strokes, size=size, lw=lw)\n",
    "    x = x / 255.\n",
    "    x = x.reshape((len(df), size, size, 1)).astype(np.float32)\n",
    "    return x\n",
    "\n"
   ]
  },
  {
   "cell_type": "code",
   "execution_count": null,
   "metadata": {
    "_uuid": "a6b041e1365a69cc0576e081e1e7db9c5928742e"
   },
   "outputs": [],
   "source": [
    "STEPS = 1000\n",
    "batchsize = 512\n",
    "epochs = 15"
   ]
  },
  {
   "cell_type": "code",
   "execution_count": null,
   "metadata": {
    "_uuid": "18162bacd65b3b8d25107d58a738a92edd415f30"
   },
   "outputs": [],
   "source": [
    "valid_df = pd.read_csv(os.path.join(DP_DIR, 'train_k{}.csv.gz'.format(NCSVS - 1)), nrows=30000)\n",
    "x_valid = df_to_image_array(valid_df, size)\n",
    "y_valid = tf.keras.utils.to_categorical(valid_df.y, num_classes=NCATS)\n",
    "print(x_valid.shape, y_valid.shape)\n",
    "print('Validation array memory {:.2f} GB'.format(x_valid.nbytes / 1024.**3 ))"
   ]
  },
  {
   "cell_type": "code",
   "execution_count": null,
   "metadata": {
    "_uuid": "10ddcecba462b047aa8dc74008615cde7452ad63"
   },
   "outputs": [],
   "source": [
    "train_datagen = image_generator(size=size, batchsize=batchsize, ks=range(NCSVS - 1))"
   ]
  }
 ],
 "metadata": {
  "kernelspec": {
   "display_name": "Python 3",
   "language": "python",
   "name": "python3"
  },
  "language_info": {
   "codemirror_mode": {
    "name": "ipython",
    "version": 3
   },
   "file_extension": ".py",
   "mimetype": "text/x-python",
   "name": "python",
   "nbconvert_exporter": "python",
   "pygments_lexer": "ipython3",
   "version": "3.5.2"
  }
 },
 "nbformat": 4,
 "nbformat_minor": 2
}
