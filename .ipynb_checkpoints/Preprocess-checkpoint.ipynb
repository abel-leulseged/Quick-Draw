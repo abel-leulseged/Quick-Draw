{
 "cells": [
  {
   "cell_type": "code",
   "execution_count": 1,
   "metadata": {},
   "outputs": [],
   "source": [
    "import pandas as pd\n",
    "import numpy as np\n",
    "import tensorflow as tf\n",
    "import random\n",
    "from ast import literal_eval\n",
    "from sklearn.utils import shuffle\n",
    "training_set = '../train_simplified/'\n",
    "from os import listdir\n",
    "from os.path import isfile, join\n",
    "train_files = [join(training_set, f) for f in listdir(training_set) if isfile(join(training_set, f))]"
   ]
  },
  {
   "cell_type": "code",
   "execution_count": 2,
   "metadata": {},
   "outputs": [],
   "source": [
    "# function to check GPU availability\n",
    "def get_available_gpus():\n",
    "    from tensorflow.python.client import device_lib\n",
    "    local_device_protos = device_lib.list_local_devices()\n",
    "    return [x.name for x in local_device_protos if x.device_type == 'GPU']"
   ]
  },
  {
   "cell_type": "code",
   "execution_count": 3,
   "metadata": {},
   "outputs": [
    {
     "data": {
      "text/plain": [
       "False"
      ]
     },
     "execution_count": 3,
     "metadata": {},
     "output_type": "execute_result"
    }
   ],
   "source": [
    "tf.test.is_gpu_available()"
   ]
  },
  {
   "cell_type": "code",
   "execution_count": 4,
   "metadata": {},
   "outputs": [
    {
     "data": {
      "text/plain": [
       "[]"
      ]
     },
     "execution_count": 4,
     "metadata": {},
     "output_type": "execute_result"
    }
   ],
   "source": [
    "get_available_gpus()"
   ]
  },
  {
   "cell_type": "code",
   "execution_count": 5,
   "metadata": {},
   "outputs": [],
   "source": [
    "def clean_drawing(inkarray):\n",
    "    inkarray = literal_eval(inkarray)\n",
    "    stroke_lengths = [len(stroke[0]) for stroke in inkarray]\n",
    "    total_points = sum(stroke_lengths)\n",
    "    np_ink = np.zeros((total_points, 3), dtype=np.float32)\n",
    "    current_t = 0\n",
    "    for stroke in inkarray:\n",
    "        for i in [0, 1]:\n",
    "            np_ink[current_t:(current_t + len(stroke[0])), i] = stroke[i]\n",
    "        current_t += len(stroke[0])\n",
    "        np_ink[current_t - 1, 2] = 1  # stroke_end\n",
    "    # Preprocessing.\n",
    "    # 1. Size normalization.\n",
    "    lower = np.min(np_ink[:, 0:2], axis=0)\n",
    "    upper = np.max(np_ink[:, 0:2], axis=0)\n",
    "    scale = upper - lower\n",
    "    scale[scale == 0] = 1\n",
    "    np_ink[:, 0:2] = (np_ink[:, 0:2] - lower) / scale\n",
    "    # 2. Compute deltas.\n",
    "    np_ink = np_ink[1:, 0:2] - np_ink[0:-1, 0:2]\n",
    "    return np_ink\n",
    "\n",
    "def load_and_clean(files,n_rows=100):\n",
    "    \"\"\"\n",
    "    loads into a single dataframe a 100 random rows from each of the csv files in the parameter list \"files\"\n",
    "    then cleans the drawing column by mapping the above function clean_drawing \n",
    "    \"\"\"\n",
    "    dfs = []\n",
    "    counter = 0\n",
    "    for file in files:\n",
    "        print(counter)\n",
    "        total_rows = sum(1 for line in open(file))\n",
    "        skip = sorted(random.sample(range(1,total_rows),total_rows-n_rows))\n",
    "        df = pd.read_csv(file, skiprows=skip)\n",
    "        dfs += [df]\n",
    "        counter += 1\n",
    "    full_df = pd.concat(dfs)\n",
    "    full_df['drawing'] = full_df['drawing'].map(clean_drawing)\n",
    "    return full_df"
   ]
  },
  {
   "cell_type": "code",
   "execution_count": 7,
   "metadata": {},
   "outputs": [
    {
     "name": "stdout",
     "output_type": "stream",
     "text": [
      "0\n",
      "1\n",
      "2\n",
      "3\n",
      "4\n",
      "5\n",
      "6\n",
      "7\n",
      "8\n",
      "9\n",
      "10\n",
      "11\n",
      "12\n",
      "13\n",
      "14\n"
     ]
    }
   ],
   "source": [
    "df = load_and_clean(train_files[:15])\n",
    "df = df.reset_index(drop=True)"
   ]
  },
  {
   "cell_type": "code",
   "execution_count": 8,
   "metadata": {},
   "outputs": [
    {
     "data": {
      "text/plain": [
       "array([[-0.02479339,  0.50196075],\n",
       "       [ 0.1404959 , -0.5490196 ],\n",
       "       [-0.09090912,  0.02352941],\n",
       "       [-0.21487603, -0.01960784],\n",
       "       [-0.11570248, -0.02745098],\n",
       "       [-0.10743802, -0.05098039],\n",
       "       [-0.0661157 , -0.03921568],\n",
       "       [-0.04958678, -0.05882353],\n",
       "       [-0.00826446, -0.08235295],\n",
       "       [ 0.04132231, -0.07058823],\n",
       "       [ 0.03305785, -0.03529412],\n",
       "       [ 0.12396694, -0.05490196],\n",
       "       [ 0.09917356, -0.02352941],\n",
       "       [ 0.12396693, -0.01176471],\n",
       "       [ 0.22314051,  0.        ],\n",
       "       [ 0.13223141,  0.01960784],\n",
       "       [ 0.09090906,  0.02352941],\n",
       "       [ 0.07438016,  0.04705882],\n",
       "       [ 0.05785125,  0.06666667],\n",
       "       [ 0.        ,  0.05882353],\n",
       "       [-0.04132229,  0.04313727],\n",
       "       [-0.09917361,  0.0745098 ],\n",
       "       [-0.13223135,  0.05098039],\n",
       "       [-0.09917355,  0.01176471],\n",
       "       [-0.17355374, -0.01568627],\n",
       "       [-0.14049587, -0.05098039],\n",
       "       [-0.07438017, -0.09411766],\n",
       "       [ 0.        , -0.07058823]], dtype=float32)"
      ]
     },
     "execution_count": 8,
     "metadata": {},
     "output_type": "execute_result"
    }
   ],
   "source": [
    "df['drawing'][3]"
   ]
  },
  {
   "cell_type": "code",
   "execution_count": null,
   "metadata": {},
   "outputs": [],
   "source": []
  }
 ],
 "metadata": {
  "kernelspec": {
   "display_name": "Python 3",
   "language": "python",
   "name": "python3"
  },
  "language_info": {
   "codemirror_mode": {
    "name": "ipython",
    "version": 3
   },
   "file_extension": ".py",
   "mimetype": "text/x-python",
   "name": "python",
   "nbconvert_exporter": "python",
   "pygments_lexer": "ipython3",
   "version": "3.5.2"
  }
 },
 "nbformat": 4,
 "nbformat_minor": 2
}
