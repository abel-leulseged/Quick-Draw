{
 "cells": [
  {
   "cell_type": "code",
   "execution_count": 1,
   "metadata": {},
   "outputs": [],
   "source": [
    "import pandas as pd\n",
    "import numpy as np\n",
    "import random\n",
    "from ast import literal_eval\n",
    "from sklearn.utils import shuffle\n",
    "training_set = '../train_simplified/'\n",
    "from os import listdir\n",
    "from os.path import isfile, join\n",
    "train_files = [join(training_set, f) for f in listdir(training_set) if isfile(join(training_set, f))]"
   ]
  },
  {
   "cell_type": "code",
   "execution_count": 2,
   "metadata": {},
   "outputs": [],
   "source": [
    "# function to check GPU availability\n",
    "def get_available_gpus():\n",
    "    from tensorflow.python.client import device_lib\n",
    "    local_device_protos = device_lib.list_local_devices()\n",
    "    return [x.name for x in local_device_protos if x.device_type == 'GPU']"
   ]
  },
  {
   "cell_type": "code",
   "execution_count": 3,
   "metadata": {},
   "outputs": [
    {
     "data": {
      "text/plain": [
       "[]"
      ]
     },
     "execution_count": 3,
     "metadata": {},
     "output_type": "execute_result"
    }
   ],
   "source": [
    "get_available_gpus()"
   ]
  },
  {
   "cell_type": "code",
   "execution_count": 6,
   "metadata": {},
   "outputs": [],
   "source": [
    "def clean_drawing(inkarray):\n",
    "    inkarray = literal_eval(inkarray)\n",
    "    stroke_lengths = [len(stroke[0]) for stroke in inkarray]\n",
    "    total_points = sum(stroke_lengths)\n",
    "    np_ink = np.zeros((total_points, 3), dtype=np.float32)\n",
    "    current_t = 0\n",
    "    for stroke in inkarray:\n",
    "        for i in [0, 1]:\n",
    "            np_ink[current_t:(current_t + len(stroke[0])), i] = stroke[i]\n",
    "        current_t += len(stroke[0])\n",
    "        np_ink[current_t - 1, 2] = 1  # stroke_end\n",
    "    # Preprocessing.\n",
    "    # 1. Size normalization.\n",
    "    lower = np.min(np_ink[:, 0:2], axis=0)\n",
    "    upper = np.max(np_ink[:, 0:2], axis=0)\n",
    "    scale = upper - lower\n",
    "    scale[scale == 0] = 1\n",
    "    np_ink[:, 0:2] = (np_ink[:, 0:2] - lower) / scale\n",
    "    # 2. Compute deltas.\n",
    "    np_ink = np_ink[1:, 0:2] - np_ink[0:-1, 0:2]\n",
    "    return np_ink\n",
    "\n",
    "def load_and_clean(files,n_rows=100):\n",
    "    \"\"\"\n",
    "    loads into a single dataframe a 100 random rows from each of the csv files in the parameter list \"files\"\n",
    "    then cleans the drawing column by mapping the above function clean_drawing \n",
    "    \"\"\"\n",
    "    dfs = []\n",
    "    counter = 0\n",
    "    for file in files:\n",
    "        print(counter)\n",
    "        total_rows = sum(1 for line in open(file))\n",
    "        skip = sorted(random.sample(range(1,total_rows),total_rows-n_rows))\n",
    "        df = pd.read_csv(file, skiprows=skip)\n",
    "        dfs += [df]\n",
    "        counter += 1\n",
    "    full_df = pd.concat(dfs)\n",
    "    full_df['drawing'] = full_df['drawing'].map(clean_drawing)\n",
    "    return full_df"
   ]
  },
  {
   "cell_type": "code",
   "execution_count": 7,
   "metadata": {},
   "outputs": [
    {
     "name": "stdout",
     "output_type": "stream",
     "text": [
      "0\n",
      "1\n",
      "2\n",
      "3\n",
      "4\n",
      "5\n",
      "6\n",
      "7\n",
      "8\n",
      "9\n",
      "10\n",
      "11\n",
      "12\n",
      "13\n",
      "14\n"
     ]
    }
   ],
   "source": [
    "df = load_and_clean(train_files[:15])\n",
    "df = df.reset_index()"
   ]
  },
  {
   "cell_type": "code",
   "execution_count": 8,
   "metadata": {},
   "outputs": [
    {
     "data": {
      "text/html": [
       "<div>\n",
       "<style scoped>\n",
       "    .dataframe tbody tr th:only-of-type {\n",
       "        vertical-align: middle;\n",
       "    }\n",
       "\n",
       "    .dataframe tbody tr th {\n",
       "        vertical-align: top;\n",
       "    }\n",
       "\n",
       "    .dataframe thead th {\n",
       "        text-align: right;\n",
       "    }\n",
       "</style>\n",
       "<table border=\"1\" class=\"dataframe\">\n",
       "  <thead>\n",
       "    <tr style=\"text-align: right;\">\n",
       "      <th></th>\n",
       "      <th>index</th>\n",
       "      <th>countrycode</th>\n",
       "      <th>drawing</th>\n",
       "      <th>key_id</th>\n",
       "      <th>recognized</th>\n",
       "      <th>timestamp</th>\n",
       "      <th>word</th>\n",
       "    </tr>\n",
       "  </thead>\n",
       "  <tbody>\n",
       "    <tr>\n",
       "      <th>0</th>\n",
       "      <td>0</td>\n",
       "      <td>UA</td>\n",
       "      <td>[[0.0, -0.61176467], [-0.21276596, -0.3882353]...</td>\n",
       "      <td>5909976444829696</td>\n",
       "      <td>True</td>\n",
       "      <td>2017-01-31 18:35:02.272830</td>\n",
       "      <td>lollipop</td>\n",
       "    </tr>\n",
       "    <tr>\n",
       "      <th>1</th>\n",
       "      <td>1</td>\n",
       "      <td>US</td>\n",
       "      <td>[[0.11965811, -0.33725488], [-0.059829056, -0....</td>\n",
       "      <td>4580607361286144</td>\n",
       "      <td>True</td>\n",
       "      <td>2017-01-24 02:33:08.397180</td>\n",
       "      <td>lollipop</td>\n",
       "    </tr>\n",
       "    <tr>\n",
       "      <th>2</th>\n",
       "      <td>2</td>\n",
       "      <td>KR</td>\n",
       "      <td>[[-0.30252102, 0.0], [-0.16806723, -0.03137257...</td>\n",
       "      <td>4780922752729088</td>\n",
       "      <td>True</td>\n",
       "      <td>2017-03-05 09:16:05.520940</td>\n",
       "      <td>lollipop</td>\n",
       "    </tr>\n",
       "    <tr>\n",
       "      <th>3</th>\n",
       "      <td>3</td>\n",
       "      <td>GB</td>\n",
       "      <td>[[-0.045454532, -0.19607842], [0.0181818, -0.4...</td>\n",
       "      <td>5457494996418560</td>\n",
       "      <td>True</td>\n",
       "      <td>2017-01-29 18:08:17.162730</td>\n",
       "      <td>lollipop</td>\n",
       "    </tr>\n",
       "    <tr>\n",
       "      <th>4</th>\n",
       "      <td>4</td>\n",
       "      <td>AU</td>\n",
       "      <td>[[-0.008474559, 0.6535433], [0.559322, -0.8110...</td>\n",
       "      <td>5904597233172480</td>\n",
       "      <td>True</td>\n",
       "      <td>2017-01-23 10:32:31.943170</td>\n",
       "      <td>lollipop</td>\n",
       "    </tr>\n",
       "  </tbody>\n",
       "</table>\n",
       "</div>"
      ],
      "text/plain": [
       "   index countrycode                                            drawing  \\\n",
       "0      0          UA  [[0.0, -0.61176467], [-0.21276596, -0.3882353]...   \n",
       "1      1          US  [[0.11965811, -0.33725488], [-0.059829056, -0....   \n",
       "2      2          KR  [[-0.30252102, 0.0], [-0.16806723, -0.03137257...   \n",
       "3      3          GB  [[-0.045454532, -0.19607842], [0.0181818, -0.4...   \n",
       "4      4          AU  [[-0.008474559, 0.6535433], [0.559322, -0.8110...   \n",
       "\n",
       "             key_id  recognized                   timestamp      word  \n",
       "0  5909976444829696        True  2017-01-31 18:35:02.272830  lollipop  \n",
       "1  4580607361286144        True  2017-01-24 02:33:08.397180  lollipop  \n",
       "2  4780922752729088        True  2017-03-05 09:16:05.520940  lollipop  \n",
       "3  5457494996418560        True  2017-01-29 18:08:17.162730  lollipop  \n",
       "4  5904597233172480        True  2017-01-23 10:32:31.943170  lollipop  "
      ]
     },
     "execution_count": 8,
     "metadata": {},
     "output_type": "execute_result"
    }
   ],
   "source": [
    "df.head()"
   ]
  },
  {
   "cell_type": "code",
   "execution_count": 11,
   "metadata": {},
   "outputs": [],
   "source": [
    "test_df = pd.read_csv('../test_simplified.csv')"
   ]
  },
  {
   "cell_type": "code",
   "execution_count": 15,
   "metadata": {},
   "outputs": [
    {
     "name": "stdout",
     "output_type": "stream",
     "text": [
      "Preprocess.ipynb  README.md\n"
     ]
    }
   ],
   "source": [
    "!ls\n"
   ]
  },
  {
   "cell_type": "code",
   "execution_count": null,
   "metadata": {},
   "outputs": [],
   "source": []
  }
 ],
 "metadata": {
  "kernelspec": {
   "display_name": "Python 3",
   "language": "python",
   "name": "python3"
  },
  "language_info": {
   "codemirror_mode": {
    "name": "ipython",
    "version": 3
   },
   "file_extension": ".py",
   "mimetype": "text/x-python",
   "name": "python",
   "nbconvert_exporter": "python",
   "pygments_lexer": "ipython3",
   "version": "3.6.7"
  }
 },
 "nbformat": 4,
 "nbformat_minor": 2
}
