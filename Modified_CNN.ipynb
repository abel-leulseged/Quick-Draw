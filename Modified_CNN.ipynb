{
 "cells": [
  {
   "cell_type": "markdown",
   "metadata": {},
   "source": [
    "# Quick Draw Modified CNN\n",
    "Abel Tadesse <br />\n",
    "Jason Yi <br />\n",
    "Richy Chen <br />"
   ]
  },
  {
   "cell_type": "markdown",
   "metadata": {},
   "source": [
    "## Import dependencies "
   ]
  },
  {
   "cell_type": "code",
   "execution_count": 1,
   "metadata": {
    "_cell_guid": "79c7e3d0-c299-4dcb-8224-4455121ee9b0",
    "_kg_hide-input": true,
    "_uuid": "d629ff2d2480ee46fbb7e2d37f6b5fab8052498a"
   },
   "outputs": [],
   "source": [
    "%reset -f \n",
    "import os\n",
    "import re\n",
    "from glob import glob\n",
    "from tqdm import tqdm\n",
    "import numpy as np\n",
    "import pandas as pd\n",
    "import ast\n",
    "import matplotlib.pyplot as plt\n",
    "%matplotlib inline"
   ]
  },
  {
   "cell_type": "markdown",
   "metadata": {
    "_uuid": "376d2827a7f11e80f6591bfc439a9d5558ef10fc"
   },
   "source": [
    "How the training data looks: The data frame is a concatenation of 2 rows from each CSV file in the training set.\n"
   ]
  },
  {
   "cell_type": "code",
   "execution_count": 2,
   "metadata": {
    "_kg_hide-input": true,
    "_uuid": "5090c701f9121207b67e13a0ae3f239514dff217",
    "scrolled": false
   },
   "outputs": [
    {
     "data": {
      "text/html": [
       "<div>\n",
       "<style scoped>\n",
       "    .dataframe tbody tr th:only-of-type {\n",
       "        vertical-align: middle;\n",
       "    }\n",
       "\n",
       "    .dataframe tbody tr th {\n",
       "        vertical-align: top;\n",
       "    }\n",
       "\n",
       "    .dataframe thead th {\n",
       "        text-align: right;\n",
       "    }\n",
       "</style>\n",
       "<table border=\"1\" class=\"dataframe\">\n",
       "  <thead>\n",
       "    <tr style=\"text-align: right;\">\n",
       "      <th></th>\n",
       "      <th>countrycode</th>\n",
       "      <th>drawing</th>\n",
       "      <th>key_id</th>\n",
       "      <th>recognized</th>\n",
       "      <th>timestamp</th>\n",
       "      <th>word</th>\n",
       "    </tr>\n",
       "  </thead>\n",
       "  <tbody>\n",
       "    <tr>\n",
       "      <th>0</th>\n",
       "      <td>MD</td>\n",
       "      <td>[[[41, 41, 49, 41, 42], [76, 110, 157, 201, 25...</td>\n",
       "      <td>5042528606748672</td>\n",
       "      <td>True</td>\n",
       "      <td>2017-03-11 21:58:33.282340</td>\n",
       "      <td>lollipop</td>\n",
       "    </tr>\n",
       "    <tr>\n",
       "      <th>1</th>\n",
       "      <td>FI</td>\n",
       "      <td>[[[61, 65, 67], [98, 106, 255]], [[72, 66, 56,...</td>\n",
       "      <td>5232288554024960</td>\n",
       "      <td>True</td>\n",
       "      <td>2017-01-25 14:49:39.148020</td>\n",
       "      <td>lollipop</td>\n",
       "    </tr>\n",
       "    <tr>\n",
       "      <th>2</th>\n",
       "      <td>US</td>\n",
       "      <td>[[[122, 102, 56, 45, 66], [0, 3, 3, 29, 22]], ...</td>\n",
       "      <td>5570004864991232</td>\n",
       "      <td>True</td>\n",
       "      <td>2017-03-16 05:55:20.812240</td>\n",
       "      <td>bench</td>\n",
       "    </tr>\n",
       "    <tr>\n",
       "      <th>3</th>\n",
       "      <td>AU</td>\n",
       "      <td>[[[2, 1, 11, 101, 234, 250, 255], [70, 43, 16,...</td>\n",
       "      <td>5906426784382976</td>\n",
       "      <td>True</td>\n",
       "      <td>2017-03-10 05:48:45.775800</td>\n",
       "      <td>bench</td>\n",
       "    </tr>\n",
       "    <tr>\n",
       "      <th>4</th>\n",
       "      <td>US</td>\n",
       "      <td>[[[0, 11, 14, 14, 7, 8, 14, 155, 187, 205, 210...</td>\n",
       "      <td>6320925102309376</td>\n",
       "      <td>True</td>\n",
       "      <td>2017-03-29 20:51:33.924090</td>\n",
       "      <td>dresser</td>\n",
       "    </tr>\n",
       "    <tr>\n",
       "      <th>5</th>\n",
       "      <td>VN</td>\n",
       "      <td>[[[19, 15, 16, 23, 72, 138, 178, 182, 181, 189...</td>\n",
       "      <td>5963662059634688</td>\n",
       "      <td>True</td>\n",
       "      <td>2017-01-31 05:36:18.230000</td>\n",
       "      <td>dresser</td>\n",
       "    </tr>\n",
       "    <tr>\n",
       "      <th>6</th>\n",
       "      <td>AU</td>\n",
       "      <td>[[[96, 84, 84, 101, 112, 115, 110, 103, 91, 86...</td>\n",
       "      <td>5212908118081536</td>\n",
       "      <td>True</td>\n",
       "      <td>2017-01-18 03:19:25.996870</td>\n",
       "      <td>scorpion</td>\n",
       "    </tr>\n",
       "    <tr>\n",
       "      <th>7</th>\n",
       "      <td>US</td>\n",
       "      <td>[[[34, 19], [186, 223]], [[44, 47, 47, 41], [1...</td>\n",
       "      <td>6378657540997120</td>\n",
       "      <td>True</td>\n",
       "      <td>2017-03-30 20:32:16.099910</td>\n",
       "      <td>scorpion</td>\n",
       "    </tr>\n",
       "    <tr>\n",
       "      <th>8</th>\n",
       "      <td>BE</td>\n",
       "      <td>[[[20, 12, 0, 1, 18, 24, 26, 25, 19], [134, 13...</td>\n",
       "      <td>4702418350637056</td>\n",
       "      <td>True</td>\n",
       "      <td>2017-03-26 21:51:40.742850</td>\n",
       "      <td>tractor</td>\n",
       "    </tr>\n",
       "    <tr>\n",
       "      <th>9</th>\n",
       "      <td>DE</td>\n",
       "      <td>[[[125, 123, 107, 83, 54, 28, 6, 0, 2, 17, 42,...</td>\n",
       "      <td>4543922971869184</td>\n",
       "      <td>True</td>\n",
       "      <td>2017-01-26 19:32:14.264860</td>\n",
       "      <td>tractor</td>\n",
       "    </tr>\n",
       "    <tr>\n",
       "      <th>10</th>\n",
       "      <td>US</td>\n",
       "      <td>[[[14, 43, 75, 89, 115, 233, 249, 254, 253, 24...</td>\n",
       "      <td>5168642721316864</td>\n",
       "      <td>True</td>\n",
       "      <td>2017-03-16 17:42:22.664570</td>\n",
       "      <td>peanut</td>\n",
       "    </tr>\n",
       "    <tr>\n",
       "      <th>11</th>\n",
       "      <td>PH</td>\n",
       "      <td>[[[98, 113, 110, 89, 50, 24, 11, 3, 0, 8, 25, ...</td>\n",
       "      <td>4880570372849664</td>\n",
       "      <td>True</td>\n",
       "      <td>2017-03-27 17:20:21.642150</td>\n",
       "      <td>peanut</td>\n",
       "    </tr>\n",
       "  </tbody>\n",
       "</table>\n",
       "</div>"
      ],
      "text/plain": [
       "   countrycode                                            drawing  \\\n",
       "0           MD  [[[41, 41, 49, 41, 42], [76, 110, 157, 201, 25...   \n",
       "1           FI  [[[61, 65, 67], [98, 106, 255]], [[72, 66, 56,...   \n",
       "2           US  [[[122, 102, 56, 45, 66], [0, 3, 3, 29, 22]], ...   \n",
       "3           AU  [[[2, 1, 11, 101, 234, 250, 255], [70, 43, 16,...   \n",
       "4           US  [[[0, 11, 14, 14, 7, 8, 14, 155, 187, 205, 210...   \n",
       "5           VN  [[[19, 15, 16, 23, 72, 138, 178, 182, 181, 189...   \n",
       "6           AU  [[[96, 84, 84, 101, 112, 115, 110, 103, 91, 86...   \n",
       "7           US  [[[34, 19], [186, 223]], [[44, 47, 47, 41], [1...   \n",
       "8           BE  [[[20, 12, 0, 1, 18, 24, 26, 25, 19], [134, 13...   \n",
       "9           DE  [[[125, 123, 107, 83, 54, 28, 6, 0, 2, 17, 42,...   \n",
       "10          US  [[[14, 43, 75, 89, 115, 233, 249, 254, 253, 24...   \n",
       "11          PH  [[[98, 113, 110, 89, 50, 24, 11, 3, 0, 8, 25, ...   \n",
       "\n",
       "              key_id recognized                   timestamp      word  \n",
       "0   5042528606748672       True  2017-03-11 21:58:33.282340  lollipop  \n",
       "1   5232288554024960       True  2017-01-25 14:49:39.148020  lollipop  \n",
       "2   5570004864991232       True  2017-03-16 05:55:20.812240     bench  \n",
       "3   5906426784382976       True  2017-03-10 05:48:45.775800     bench  \n",
       "4   6320925102309376       True  2017-03-29 20:51:33.924090   dresser  \n",
       "5   5963662059634688       True  2017-01-31 05:36:18.230000   dresser  \n",
       "6   5212908118081536       True  2017-01-18 03:19:25.996870  scorpion  \n",
       "7   6378657540997120       True  2017-03-30 20:32:16.099910  scorpion  \n",
       "8   4702418350637056       True  2017-03-26 21:51:40.742850   tractor  \n",
       "9   4543922971869184       True  2017-01-26 19:32:14.264860   tractor  \n",
       "10  5168642721316864       True  2017-03-16 17:42:22.664570    peanut  \n",
       "11  4880570372849664       True  2017-03-27 17:20:21.642150    peanut  "
      ]
     },
     "execution_count": 2,
     "metadata": {},
     "output_type": "execute_result"
    }
   ],
   "source": [
    "fnames = glob('./../train_simplified/*.csv')\n",
    "cnames = ['countrycode', 'drawing', 'key_id', 'recognized', 'timestamp', 'word']\n",
    "drawlist = []\n",
    "for f in fnames[0:6]:\n",
    "    first = pd.read_csv(f, nrows=10) # make sure we get a recognized drawing\n",
    "    first = first[first.recognized==True].head(2)\n",
    "    drawlist.append(first)\n",
    "draw_df = pd.DataFrame(np.concatenate(drawlist), columns=cnames)\n",
    "draw_df"
   ]
  },
  {
   "cell_type": "markdown",
   "metadata": {},
   "source": [
    "Example of how the sketches look:"
   ]
  },
  {
   "cell_type": "code",
   "execution_count": 3,
   "metadata": {
    "_kg_hide-input": true,
    "_uuid": "2be57621533d0e0aa75108febde01261d2444c37"
   },
   "outputs": [],
   "source": [
    "evens = range(0,11,2)\n",
    "odds = range(1,12, 2)\n",
    "df1 = draw_df[draw_df.index.isin(evens)]\n",
    "df2 = draw_df[draw_df.index.isin(odds)]\n",
    "\n",
    "example1s = [ast.literal_eval(pts) for pts in df1.drawing.values]\n",
    "example2s = [ast.literal_eval(pts) for pts in df2.drawing.values]"
   ]
  },
  {
   "cell_type": "code",
   "execution_count": 4,
   "metadata": {
    "_kg_hide-input": true,
    "_uuid": "0a1aaca9129ad3748e597993c90ab65c5fdefd5b",
    "scrolled": false
   },
   "outputs": [
    {
     "name": "stderr",
     "output_type": "stream",
     "text": [
      "/home/abelleulseged/.local/lib/python3.6/site-packages/matplotlib/figure.py:98: MatplotlibDeprecationWarning: \n",
      "Adding an axes using the same arguments as a previous axes currently reuses the earlier instance.  In a future version, a new instance will always be created and returned.  Meanwhile, this warning can be suppressed, and the future behavior ensured, by passing a unique label to each axes instance.\n",
      "  \"Adding an axes using the same arguments as a previous axes \"\n"
     ]
    },
    {
     "data": {
      "image/png": "[encoded data removed]",
      "text/plain": [
       "<Figure size 432x216 with 2 Axes>"
      ]
     },
     "metadata": {
      "needs_background": "light"
     },
     "output_type": "display_data"
    },
    {
     "data": {
      "image/png": "[encoded data removed]",
      "text/plain": [
       "<Figure size 432x216 with 2 Axes>"
      ]
     },
     "metadata": {
      "needs_background": "light"
     },
     "output_type": "display_data"
    },
    {
     "data": {
      "image/png": "[encoded data removed]",
      "text/plain": [
       "<Figure size 432x216 with 2 Axes>"
      ]
     },
     "metadata": {
      "needs_background": "light"
     },
     "output_type": "display_data"
    },
    {
     "data": {
      "image/png": "[encoded data removed]",
      "text/plain": [
       "<Figure size 432x216 with 2 Axes>"
      ]
     },
     "metadata": {
      "needs_background": "light"
     },
     "output_type": "display_data"
    },
    {
     "data": {
      "image/png": "[encoded data removed]",
      "text/plain": [
       "<Figure size 432x216 with 2 Axes>"
      ]
     },
     "metadata": {
      "needs_background": "light"
     },
     "output_type": "display_data"
    },
    {
     "data": {
      "image/png": "[encoded data removed]",
      "text/plain": [
       "<Figure size 432x216 with 2 Axes>"
      ]
     },
     "metadata": {
      "needs_background": "light"
     },
     "output_type": "display_data"
    }
   ],
   "source": [
    "labels = df2.word.tolist()\n",
    "for i, example in enumerate(example1s):\n",
    "    plt.figure(figsize=(6,3))\n",
    "    \n",
    "    for x,y in example:\n",
    "        plt.subplot(1,2,1)\n",
    "        plt.plot(x, y, marker='.')\n",
    "        plt.axis('off')\n",
    "\n",
    "    for x,y, in example2s[i]:\n",
    "        plt.subplot(1,2,2)\n",
    "        plt.plot(x, y, marker='.')\n",
    "        plt.axis('off')\n",
    "        label = labels[i]\n",
    "        plt.title(label, fontsize=10)\n",
    "\n",
    "    plt.show()  "
   ]
  },
  {
   "cell_type": "markdown",
   "metadata": {
    "_uuid": "8b9f5b85771add0d7672f7611a62e4668a28453c"
   },
   "source": [
    "## Convolutional Neural Network (CNN) Implementation\n",
    "Essentially an image classifier. Interprets the data as a 2D object with the strokes at completion. \n"
   ]
  },
  {
   "cell_type": "code",
   "execution_count": 5,
   "metadata": {
    "_uuid": "779113b4b0ef5fbe50ddda59813b019b3b769b58"
   },
   "outputs": [],
   "source": [
    "#%% import\n",
    "import os\n",
    "from glob import glob\n",
    "import re\n",
    "import ast\n",
    "import numpy as np \n",
    "import pandas as pd\n",
    "import matplotlib.pyplot as plt\n",
    "from PIL import Image, ImageDraw \n",
    "from tqdm import tqdm\n",
    "from dask import bag\n",
    "\n",
    "import tensorflow as tf\n",
    "from tensorflow import keras\n",
    "from tensorflow.keras.models import Sequential\n",
    "from tensorflow.keras.layers import Dense, Dropout, Flatten\n",
    "from tensorflow.keras.layers import Conv2D, MaxPooling2D, BatchNormalization\n",
    "from tensorflow.keras.metrics import top_k_categorical_accuracy\n",
    "from tensorflow.keras.callbacks import ModelCheckpoint, ReduceLROnPlateau, EarlyStopping"
   ]
  },
  {
   "cell_type": "code",
   "execution_count": 6,
   "metadata": {
    "_uuid": "44e5965471a53f3ca6d87a1df8c0e1b2538cd34c"
   },
   "outputs": [],
   "source": [
    "#%% set label dictionary and params\n",
    "classfiles = os.listdir('./../train_simplified/')\n",
    "numstonames = {i: v[:-4].replace(\" \", \"_\") for i, v in enumerate(classfiles)} #adds underscores\n",
    "\n",
    "num_classes = 340\n",
    "imheight, imwidth = 32, 32  \n",
    "ims_per_class = 2000  #max?"
   ]
  },
  {
   "cell_type": "code",
   "execution_count": 7,
   "metadata": {
    "_kg_hide-output": false,
    "_uuid": "1ce1101eea3b2a0787c1dbe6b675e2a481802f67"
   },
   "outputs": [],
   "source": [
    "# faster conversion function\n",
    "# Use PIL to make it faster to draw images\n",
    "def draw_it(strokes):\n",
    "    image = Image.new(\"P\", (256,256), color=255)\n",
    "    image_draw = ImageDraw.Draw(image)\n",
    "    for stroke in ast.literal_eval(strokes):\n",
    "        for i in range(len(stroke[0])-1):\n",
    "            image_draw.line([stroke[0][i], \n",
    "                             stroke[1][i],\n",
    "                             stroke[0][i+1], \n",
    "                             stroke[1][i+1]],\n",
    "                            fill=0, width=5)\n",
    "    image = image.resize((imheight, imwidth))\n",
    "    return np.array(image)/255.\n",
    "\n",
    "#%% get train arrays\n",
    "# train = all drawings of that label\n",
    "# trainarray = array representation of all those drawings in the label\n",
    "# train_grand = list of list accumulator for all the array representations of drawings. \n",
    "train_grand = []\n",
    "class_paths = glob('./../train_simplified/*.csv')\n",
    "np.random.shuffle(class_paths)"
   ]
  },
  {
   "cell_type": "code",
   "execution_count": 8,
   "metadata": {
    "_kg_hide-output": false,
    "_uuid": "1ce1101eea3b2a0787c1dbe6b675e2a481802f67",
    "scrolled": true
   },
   "outputs": [
    {
     "name": "stderr",
     "output_type": "stream",
     "text": [
      "100%|██████████| 340/340 [08:04<00:00,  1.74s/it]\n"
     ]
    }
   ],
   "source": [
    "for i,c in enumerate(tqdm(class_paths[0: num_classes])):\n",
    "    #look at drawing and recognized columns\n",
    "    train = pd.read_csv(c, usecols=['drawing', 'recognized'], nrows=ims_per_class*5//4)\n",
    "    train = train[train.recognized == True].head(ims_per_class)\n",
    "    # draws out the drawing values \n",
    "    imagebag = bag.from_sequence(train.drawing.values).map(draw_it) \n",
    "    # draw them at same time into np array\n",
    "    trainarray = np.array(imagebag.compute())  \n",
    "    trainarray = np.reshape(trainarray, (ims_per_class, -1))   \n",
    "    # has all the label names for that specific label\n",
    "    labelarray = np.full((train.shape[0], 1), i)\n",
    "    # merge the labels and the drawings at every iteration and then stick it in one huge array\n",
    "    trainarray = np.concatenate((labelarray, trainarray), axis=1)\n",
    "    train_grand.append(trainarray)\n",
    "    \n",
    "train_grand = np.array([train_grand.pop() for i in np.arange(num_classes)]) #less memory than np.concatenate\n",
    "train_grand = train_grand.reshape((-1, (imheight*imwidth+1)))\n",
    "\n",
    "del trainarray\n",
    "del train"
   ]
  },
  {
   "cell_type": "code",
   "execution_count": 9,
   "metadata": {
    "_kg_hide-input": false,
    "_uuid": "6788c33f4a9dd552d473e3667387491c40dbfe4b",
    "scrolled": false
   },
   "outputs": [
    {
     "name": "stdout",
     "output_type": "stream",
     "text": [
      "(612000, 340) \n",
      " (612000, 32, 32, 1) \n",
      " (68000, 340) \n",
      " (68000, 32, 32, 1)\n"
     ]
    }
   ],
   "source": [
    "# memory-friendly alternative to train_test_split?\n",
    "# write the cut off point for splitting data between train and validation\n",
    "valfrac = 0.1\n",
    "cutpt = int(valfrac * train_grand.shape[0])\n",
    "\n",
    "# shuffle the train_grand randomly\n",
    "np.random.shuffle(train_grand)\n",
    "# train gets last 90% and validation gets first 10%\n",
    "# y represents the label (output) and the x represents the drawn image\n",
    "y_train, X_train = train_grand[cutpt: , 0], train_grand[cutpt: , 1:]\n",
    "y_val, X_val = train_grand[0:cutpt, 0], train_grand[0:cutpt, 1:] #validation set is recognized==True\n",
    "\n",
    "del train_grand\n",
    "\n",
    "# Encode labels with value between 0 and n_classes-1\n",
    "y_train = keras.utils.to_categorical(y_train, num_classes)\n",
    "# reshape the drawings to pixels\n",
    "X_train = X_train.reshape(X_train.shape[0], imheight, imwidth, 1)\n",
    "y_val = keras.utils.to_categorical(y_val, num_classes)\n",
    "X_val = X_val.reshape(X_val.shape[0], imheight, imwidth, 1)\n",
    "\n",
    "print(y_train.shape, \"\\n\",\n",
    "      X_train.shape, \"\\n\",\n",
    "      y_val.shape, \"\\n\",\n",
    "      X_val.shape)"
   ]
  },
  {
   "cell_type": "markdown",
   "metadata": {},
   "source": [
    "# CNN architecture"
   ]
  },
  {
   "cell_type": "code",
   "execution_count": 10,
   "metadata": {
    "_uuid": "002b62eec9f0b5c139c4c08f82476433ccc11026"
   },
   "outputs": [
    {
     "name": "stdout",
     "output_type": "stream",
     "text": [
      "_________________________________________________________________\n",
      "Layer (type)                 Output Shape              Param #   \n",
      "=================================================================\n",
      "conv2d (Conv2D)              (None, 28, 28, 30)        780       \n",
      "_________________________________________________________________\n",
      "max_pooling2d (MaxPooling2D) (None, 14, 14, 30)        0         \n",
      "_________________________________________________________________\n",
      "conv2d_1 (Conv2D)            (None, 12, 12, 15)        4065      \n",
      "_________________________________________________________________\n",
      "max_pooling2d_1 (MaxPooling2 (None, 6, 6, 15)          0         \n",
      "_________________________________________________________________\n",
      "flatten (Flatten)            (None, 540)               0         \n",
      "_________________________________________________________________\n",
      "dense (Dense)                (None, 128)               69248     \n",
      "_________________________________________________________________\n",
      "dropout (Dropout)            (None, 128)               0         \n",
      "_________________________________________________________________\n",
      "dense_1 (Dense)              (None, 50)                6450      \n",
      "_________________________________________________________________\n",
      "dropout_1 (Dropout)          (None, 50)                0         \n",
      "_________________________________________________________________\n",
      "dense_2 (Dense)              (None, 340)               17340     \n",
      "=================================================================\n",
      "Total params: 97,883\n",
      "Trainable params: 97,883\n",
      "Non-trainable params: 0\n",
      "_________________________________________________________________\n"
     ]
    }
   ],
   "source": [
    "model = Sequential()\n",
    "# begin with 2D convolutional error instead of dense layer to prevent loss of spatial information\n",
    "model.add(Conv2D(30, (5, 5), input_shape=(imheight, imwidth, 1), activation='relu'))\n",
    "model.add(MaxPooling2D(pool_size=(2, 2)))\n",
    "\n",
    "model.add(Conv2D(15, (3, 3), activation='relu'))\n",
    "model.add(MaxPooling2D(pool_size=(2, 2)))\n",
    "\n",
    "model.add(Flatten())\n",
    "\n",
    "# Dropout to account for possible overfitting\n",
    "model.add(Dense(128, activation='relu'))\n",
    "model.add(Dropout(0.2))\n",
    "model.add(Dense(50, activation='relu'))\n",
    "model.add(Dropout(0.2))\n",
    "model.add(Dense(num_classes, activation='softmax'))\n",
    "\n",
    "model.summary()"
   ]
  },
  {
   "cell_type": "code",
   "execution_count": 11,
   "metadata": {
    "_kg_hide-output": true,
    "_uuid": "6464e84f6f0c7303110db9e26c74a5c90a0a9ab9"
   },
   "outputs": [],
   "source": [
    "def top_3_accuracy(x,y): \n",
    "    t3 = top_k_categorical_accuracy(x,y, 3)\n",
    "    return t3\n",
    "# save weights as you go and make checkpoint when value is better\n",
    "weight_path=\"./{}_weights.hdf5\".format('modified_cnn_model')\n",
    "\n",
    "checkpoint = ModelCheckpoint(weight_path, monitor='val_loss', verbose=1, \n",
    "                             save_best_only=True, mode='min', save_weights_only = True)\n",
    "# monitor validation loss\n",
    "reduceLROnPlat = ReduceLROnPlateau(monitor='val_loss', factor=0.5, patience=20, \n",
    "                                   verbose=1, mode='auto', min_delta=0.005, cooldown=5, min_lr=0.0001)\n",
    "earlystop = EarlyStopping(monitor='val_top_3_accuracy', mode='max', patience=20) \n",
    "# while training, make these calls\n",
    "callbacks = [reduceLROnPlat, earlystop, checkpoint]"
   ]
  },
  {
   "cell_type": "code",
   "execution_count": 12,
   "metadata": {
    "_kg_hide-output": true,
    "_uuid": "6464e84f6f0c7303110db9e26c74a5c90a0a9ab9"
   },
   "outputs": [],
   "source": [
    "model.compile(loss='categorical_crossentropy',\n",
    "              optimizer='adam',\n",
    "              metrics=['accuracy', top_3_accuracy])"
   ]
  },
  {
   "cell_type": "code",
   "execution_count": 13,
   "metadata": {
    "_kg_hide-output": true,
    "_uuid": "6464e84f6f0c7303110db9e26c74a5c90a0a9ab9",
    "scrolled": false
   },
   "outputs": [
    {
     "name": "stdout",
     "output_type": "stream",
     "text": [
      "Train on 612000 samples, validate on 68000 samples\n",
      "Epoch 1/100\n",
      "610304/612000 [============================>.] - ETA: 0s - loss: 5.3415 - acc: 0.0237 - top_3_accuracy: 0.0595\n",
      "Epoch 00001: val_loss improved from inf to 4.68236, saving model to ./modified_cnn_model_weights.hdf5\n",
      "WARNING:tensorflow:This model was compiled with a Keras optimizer (<tensorflow.python.keras.optimizers.Adam object at 0x7f27c8297a58>) but is being saved in TensorFlow format with `save_weights`. The model's weights will be saved, but unlike with TensorFlow optimizers in the TensorFlow format the optimizer's state will not be saved.\n",
      "\n",
      "Consider using a TensorFlow optimizer from `tf.train`.\n",
      "612000/612000 [==============================] - 30s 49us/step - loss: 5.3401 - acc: 0.0238 - top_3_accuracy: 0.0597 - val_loss: 4.6824 - val_acc: 0.0814 - val_top_3_accuracy: 0.1734\n",
      "Epoch 2/100\n",
      "610304/612000 [============================>.] - ETA: 0s - loss: 4.6135 - acc: 0.0756 - top_3_accuracy: 0.1662\n",
      "Epoch 00002: val_loss improved from 4.68236 to 4.22251, saving model to ./modified_cnn_model_weights.hdf5\n",
      "WARNING:tensorflow:This model was compiled with a Keras optimizer (<tensorflow.python.keras.optimizers.Adam object at 0x7f27c8297a58>) but is being saved in TensorFlow format with `save_weights`. The model's weights will be saved, but unlike with TensorFlow optimizers in the TensorFlow format the optimizer's state will not be saved.\n",
      "\n",
      "Consider using a TensorFlow optimizer from `tf.train`.\n",
      "612000/612000 [==============================] - 21s 34us/step - loss: 4.6131 - acc: 0.0756 - top_3_accuracy: 0.1662 - val_loss: 4.2225 - val_acc: 0.1313 - val_top_3_accuracy: 0.2559\n",
      "Epoch 3/100\n",
      "610304/612000 [============================>.] - ETA: 0s - loss: 4.3190 - acc: 0.1073 - top_3_accuracy: 0.2212\n",
      "Epoch 00003: val_loss improved from 4.22251 to 3.97752, saving model to ./modified_cnn_model_weights.hdf5\n",
      "WARNING:tensorflow:This model was compiled with a Keras optimizer (<tensorflow.python.keras.optimizers.Adam object at 0x7f27c8297a58>) but is being saved in TensorFlow format with `save_weights`. The model's weights will be saved, but unlike with TensorFlow optimizers in the TensorFlow format the optimizer's state will not be saved.\n",
      "\n",
      "Consider using a TensorFlow optimizer from `tf.train`.\n",
      "612000/612000 [==============================] - 19s 31us/step - loss: 4.3188 - acc: 0.1074 - top_3_accuracy: 0.2212 - val_loss: 3.9775 - val_acc: 0.1627 - val_top_3_accuracy: 0.3061\n",
      "Epoch 4/100\n",
      "610304/612000 [============================>.] - ETA: 0s - loss: 4.1382 - acc: 0.1290 - top_3_accuracy: 0.2587\n",
      "Epoch 00004: val_loss improved from 3.97752 to 3.79305, saving model to ./modified_cnn_model_weights.hdf5\n",
      "WARNING:tensorflow:This model was compiled with a Keras optimizer (<tensorflow.python.keras.optimizers.Adam object at 0x7f27c8297a58>) but is being saved in TensorFlow format with `save_weights`. The model's weights will be saved, but unlike with TensorFlow optimizers in the TensorFlow format the optimizer's state will not be saved.\n",
      "\n",
      "Consider using a TensorFlow optimizer from `tf.train`.\n",
      "612000/612000 [==============================] - 21s 34us/step - loss: 4.1380 - acc: 0.1290 - top_3_accuracy: 0.2587 - val_loss: 3.7931 - val_acc: 0.1859 - val_top_3_accuracy: 0.3444\n",
      "Epoch 5/100\n",
      "610304/612000 [============================>.] - ETA: 0s - loss: 3.9959 - acc: 0.1464 - top_3_accuracy: 0.2876\n",
      "Epoch 00005: val_loss improved from 3.79305 to 3.63397, saving model to ./modified_cnn_model_weights.hdf5\n",
      "WARNING:tensorflow:This model was compiled with a Keras optimizer (<tensorflow.python.keras.optimizers.Adam object at 0x7f27c8297a58>) but is being saved in TensorFlow format with `save_weights`. The model's weights will be saved, but unlike with TensorFlow optimizers in the TensorFlow format the optimizer's state will not be saved.\n",
      "\n",
      "Consider using a TensorFlow optimizer from `tf.train`.\n",
      "612000/612000 [==============================] - 20s 33us/step - loss: 3.9958 - acc: 0.1464 - top_3_accuracy: 0.2876 - val_loss: 3.6340 - val_acc: 0.2072 - val_top_3_accuracy: 0.3767\n",
      "Epoch 6/100\n",
      "610304/612000 [============================>.] - ETA: 0s - loss: 3.8719 - acc: 0.1625 - top_3_accuracy: 0.3136\n",
      "Epoch 00006: val_loss improved from 3.63397 to 3.48050, saving model to ./modified_cnn_model_weights.hdf5\n",
      "WARNING:tensorflow:This model was compiled with a Keras optimizer (<tensorflow.python.keras.optimizers.Adam object at 0x7f27c8297a58>) but is being saved in TensorFlow format with `save_weights`. The model's weights will be saved, but unlike with TensorFlow optimizers in the TensorFlow format the optimizer's state will not be saved.\n",
      "\n",
      "Consider using a TensorFlow optimizer from `tf.train`.\n",
      "612000/612000 [==============================] - 20s 33us/step - loss: 3.8717 - acc: 0.1625 - top_3_accuracy: 0.3137 - val_loss: 3.4805 - val_acc: 0.2328 - val_top_3_accuracy: 0.4112\n",
      "Epoch 7/100\n",
      "610304/612000 [============================>.] - ETA: 0s - loss: 3.7593 - acc: 0.1776 - top_3_accuracy: 0.3371\n",
      "Epoch 00007: val_loss improved from 3.48050 to 3.36560, saving model to ./modified_cnn_model_weights.hdf5\n",
      "WARNING:tensorflow:This model was compiled with a Keras optimizer (<tensorflow.python.keras.optimizers.Adam object at 0x7f27c8297a58>) but is being saved in TensorFlow format with `save_weights`. The model's weights will be saved, but unlike with TensorFlow optimizers in the TensorFlow format the optimizer's state will not be saved.\n",
      "\n",
      "Consider using a TensorFlow optimizer from `tf.train`.\n",
      "612000/612000 [==============================] - 20s 33us/step - loss: 3.7592 - acc: 0.1776 - top_3_accuracy: 0.3371 - val_loss: 3.3656 - val_acc: 0.2532 - val_top_3_accuracy: 0.4391\n",
      "Epoch 8/100\n",
      "610304/612000 [============================>.] - ETA: 0s - loss: 3.6738 - acc: 0.1902 - top_3_accuracy: 0.3554\n",
      "Epoch 00008: val_loss improved from 3.36560 to 3.28187, saving model to ./modified_cnn_model_weights.hdf5\n",
      "WARNING:tensorflow:This model was compiled with a Keras optimizer (<tensorflow.python.keras.optimizers.Adam object at 0x7f27c8297a58>) but is being saved in TensorFlow format with `save_weights`. The model's weights will be saved, but unlike with TensorFlow optimizers in the TensorFlow format the optimizer's state will not be saved.\n",
      "\n",
      "Consider using a TensorFlow optimizer from `tf.train`.\n",
      "612000/612000 [==============================] - 21s 34us/step - loss: 3.6737 - acc: 0.1902 - top_3_accuracy: 0.3554 - val_loss: 3.2819 - val_acc: 0.2661 - val_top_3_accuracy: 0.4563\n",
      "Epoch 9/100\n",
      "610304/612000 [============================>.] - ETA: 0s - loss: 3.6076 - acc: 0.2003 - top_3_accuracy: 0.3690\n",
      "Epoch 00009: val_loss improved from 3.28187 to 3.19664, saving model to ./modified_cnn_model_weights.hdf5\n",
      "WARNING:tensorflow:This model was compiled with a Keras optimizer (<tensorflow.python.keras.optimizers.Adam object at 0x7f27c8297a58>) but is being saved in TensorFlow format with `save_weights`. The model's weights will be saved, but unlike with TensorFlow optimizers in the TensorFlow format the optimizer's state will not be saved.\n",
      "\n",
      "Consider using a TensorFlow optimizer from `tf.train`.\n",
      "612000/612000 [==============================] - 21s 34us/step - loss: 3.6075 - acc: 0.2003 - top_3_accuracy: 0.3690 - val_loss: 3.1966 - val_acc: 0.2801 - val_top_3_accuracy: 0.4728\n",
      "Epoch 10/100\n",
      "610304/612000 [============================>.] - ETA: 0s - loss: 3.5515 - acc: 0.2085 - top_3_accuracy: 0.3822\n",
      "Epoch 00010: val_loss improved from 3.19664 to 3.13951, saving model to ./modified_cnn_model_weights.hdf5\n",
      "WARNING:tensorflow:This model was compiled with a Keras optimizer (<tensorflow.python.keras.optimizers.Adam object at 0x7f27c8297a58>) but is being saved in TensorFlow format with `save_weights`. The model's weights will be saved, but unlike with TensorFlow optimizers in the TensorFlow format the optimizer's state will not be saved.\n",
      "\n",
      "Consider using a TensorFlow optimizer from `tf.train`.\n",
      "612000/612000 [==============================] - 21s 34us/step - loss: 3.5515 - acc: 0.2086 - top_3_accuracy: 0.3822 - val_loss: 3.1395 - val_acc: 0.2908 - val_top_3_accuracy: 0.4852\n",
      "Epoch 11/100\n"
     ]
    },
    {
     "name": "stdout",
     "output_type": "stream",
     "text": [
      "610304/612000 [============================>.] - ETA: 0s - loss: 3.5089 - acc: 0.2150 - top_3_accuracy: 0.3913\n",
      "Epoch 00011: val_loss improved from 3.13951 to 3.09123, saving model to ./modified_cnn_model_weights.hdf5\n",
      "WARNING:tensorflow:This model was compiled with a Keras optimizer (<tensorflow.python.keras.optimizers.Adam object at 0x7f27c8297a58>) but is being saved in TensorFlow format with `save_weights`. The model's weights will be saved, but unlike with TensorFlow optimizers in the TensorFlow format the optimizer's state will not be saved.\n",
      "\n",
      "Consider using a TensorFlow optimizer from `tf.train`.\n",
      "612000/612000 [==============================] - 21s 34us/step - loss: 3.5089 - acc: 0.2151 - top_3_accuracy: 0.3913 - val_loss: 3.0912 - val_acc: 0.2991 - val_top_3_accuracy: 0.4992\n",
      "Epoch 12/100\n",
      "610304/612000 [============================>.] - ETA: 0s - loss: 3.4712 - acc: 0.2211 - top_3_accuracy: 0.3994\n",
      "Epoch 00012: val_loss improved from 3.09123 to 3.05251, saving model to ./modified_cnn_model_weights.hdf5\n",
      "WARNING:tensorflow:This model was compiled with a Keras optimizer (<tensorflow.python.keras.optimizers.Adam object at 0x7f27c8297a58>) but is being saved in TensorFlow format with `save_weights`. The model's weights will be saved, but unlike with TensorFlow optimizers in the TensorFlow format the optimizer's state will not be saved.\n",
      "\n",
      "Consider using a TensorFlow optimizer from `tf.train`.\n",
      "612000/612000 [==============================] - 20s 33us/step - loss: 3.4711 - acc: 0.2211 - top_3_accuracy: 0.3994 - val_loss: 3.0525 - val_acc: 0.3077 - val_top_3_accuracy: 0.5068\n",
      "Epoch 13/100\n",
      "610304/612000 [============================>.] - ETA: 0s - loss: 3.4354 - acc: 0.2274 - top_3_accuracy: 0.4076\n",
      "Epoch 00013: val_loss improved from 3.05251 to 2.99963, saving model to ./modified_cnn_model_weights.hdf5\n",
      "WARNING:tensorflow:This model was compiled with a Keras optimizer (<tensorflow.python.keras.optimizers.Adam object at 0x7f27c8297a58>) but is being saved in TensorFlow format with `save_weights`. The model's weights will be saved, but unlike with TensorFlow optimizers in the TensorFlow format the optimizer's state will not be saved.\n",
      "\n",
      "Consider using a TensorFlow optimizer from `tf.train`.\n",
      "612000/612000 [==============================] - 20s 33us/step - loss: 3.4351 - acc: 0.2274 - top_3_accuracy: 0.4077 - val_loss: 2.9996 - val_acc: 0.3162 - val_top_3_accuracy: 0.5174\n",
      "Epoch 14/100\n",
      "610304/612000 [============================>.] - ETA: 0s - loss: 3.4057 - acc: 0.2319 - top_3_accuracy: 0.4146\n",
      "Epoch 00014: val_loss improved from 2.99963 to 2.96143, saving model to ./modified_cnn_model_weights.hdf5\n",
      "WARNING:tensorflow:This model was compiled with a Keras optimizer (<tensorflow.python.keras.optimizers.Adam object at 0x7f27c8297a58>) but is being saved in TensorFlow format with `save_weights`. The model's weights will be saved, but unlike with TensorFlow optimizers in the TensorFlow format the optimizer's state will not be saved.\n",
      "\n",
      "Consider using a TensorFlow optimizer from `tf.train`.\n",
      "612000/612000 [==============================] - 21s 34us/step - loss: 3.4057 - acc: 0.2319 - top_3_accuracy: 0.4146 - val_loss: 2.9614 - val_acc: 0.3223 - val_top_3_accuracy: 0.5258\n",
      "Epoch 15/100\n",
      "610304/612000 [============================>.] - ETA: 0s - loss: 3.3774 - acc: 0.2361 - top_3_accuracy: 0.4205\n",
      "Epoch 00015: val_loss improved from 2.96143 to 2.94930, saving model to ./modified_cnn_model_weights.hdf5\n",
      "WARNING:tensorflow:This model was compiled with a Keras optimizer (<tensorflow.python.keras.optimizers.Adam object at 0x7f27c8297a58>) but is being saved in TensorFlow format with `save_weights`. The model's weights will be saved, but unlike with TensorFlow optimizers in the TensorFlow format the optimizer's state will not be saved.\n",
      "\n",
      "Consider using a TensorFlow optimizer from `tf.train`.\n",
      "612000/612000 [==============================] - 20s 33us/step - loss: 3.3774 - acc: 0.2361 - top_3_accuracy: 0.4206 - val_loss: 2.9493 - val_acc: 0.3242 - val_top_3_accuracy: 0.5274\n",
      "Epoch 16/100\n",
      "610304/612000 [============================>.] - ETA: 0s - loss: 3.3559 - acc: 0.2402 - top_3_accuracy: 0.4254\n",
      "Epoch 00016: val_loss improved from 2.94930 to 2.92883, saving model to ./modified_cnn_model_weights.hdf5\n",
      "WARNING:tensorflow:This model was compiled with a Keras optimizer (<tensorflow.python.keras.optimizers.Adam object at 0x7f27c8297a58>) but is being saved in TensorFlow format with `save_weights`. The model's weights will be saved, but unlike with TensorFlow optimizers in the TensorFlow format the optimizer's state will not be saved.\n",
      "\n",
      "Consider using a TensorFlow optimizer from `tf.train`.\n",
      "612000/612000 [==============================] - 21s 34us/step - loss: 3.3557 - acc: 0.2402 - top_3_accuracy: 0.4254 - val_loss: 2.9288 - val_acc: 0.3274 - val_top_3_accuracy: 0.5322\n",
      "Epoch 17/100\n",
      "610304/612000 [============================>.] - ETA: 0s - loss: 3.3352 - acc: 0.2433 - top_3_accuracy: 0.4293\n",
      "Epoch 00017: val_loss improved from 2.92883 to 2.89422, saving model to ./modified_cnn_model_weights.hdf5\n",
      "WARNING:tensorflow:This model was compiled with a Keras optimizer (<tensorflow.python.keras.optimizers.Adam object at 0x7f27c8297a58>) but is being saved in TensorFlow format with `save_weights`. The model's weights will be saved, but unlike with TensorFlow optimizers in the TensorFlow format the optimizer's state will not be saved.\n",
      "\n",
      "Consider using a TensorFlow optimizer from `tf.train`.\n",
      "612000/612000 [==============================] - 21s 35us/step - loss: 3.3352 - acc: 0.2434 - top_3_accuracy: 0.4293 - val_loss: 2.8942 - val_acc: 0.3343 - val_top_3_accuracy: 0.5407\n",
      "Epoch 18/100\n",
      "610304/612000 [============================>.] - ETA: 0s - loss: 3.3177 - acc: 0.2459 - top_3_accuracy: 0.4334\n",
      "Epoch 00018: val_loss improved from 2.89422 to 2.87950, saving model to ./modified_cnn_model_weights.hdf5\n",
      "WARNING:tensorflow:This model was compiled with a Keras optimizer (<tensorflow.python.keras.optimizers.Adam object at 0x7f27c8297a58>) but is being saved in TensorFlow format with `save_weights`. The model's weights will be saved, but unlike with TensorFlow optimizers in the TensorFlow format the optimizer's state will not be saved.\n",
      "\n",
      "Consider using a TensorFlow optimizer from `tf.train`.\n",
      "612000/612000 [==============================] - 21s 34us/step - loss: 3.3177 - acc: 0.2459 - top_3_accuracy: 0.4335 - val_loss: 2.8795 - val_acc: 0.3380 - val_top_3_accuracy: 0.5450\n",
      "Epoch 19/100\n",
      "610304/612000 [============================>.] - ETA: 0s - loss: 3.2994 - acc: 0.2495 - top_3_accuracy: 0.4369\n",
      "Epoch 00019: val_loss improved from 2.87950 to 2.86269, saving model to ./modified_cnn_model_weights.hdf5\n",
      "WARNING:tensorflow:This model was compiled with a Keras optimizer (<tensorflow.python.keras.optimizers.Adam object at 0x7f27c8297a58>) but is being saved in TensorFlow format with `save_weights`. The model's weights will be saved, but unlike with TensorFlow optimizers in the TensorFlow format the optimizer's state will not be saved.\n",
      "\n",
      "Consider using a TensorFlow optimizer from `tf.train`.\n",
      "612000/612000 [==============================] - 21s 34us/step - loss: 3.2992 - acc: 0.2496 - top_3_accuracy: 0.4369 - val_loss: 2.8627 - val_acc: 0.3415 - val_top_3_accuracy: 0.5473\n",
      "Epoch 20/100\n",
      "610304/612000 [============================>.] - ETA: 0s - loss: 3.2824 - acc: 0.2514 - top_3_accuracy: 0.4401\n",
      "Epoch 00020: val_loss improved from 2.86269 to 2.85183, saving model to ./modified_cnn_model_weights.hdf5\n",
      "WARNING:tensorflow:This model was compiled with a Keras optimizer (<tensorflow.python.keras.optimizers.Adam object at 0x7f27c8297a58>) but is being saved in TensorFlow format with `save_weights`. The model's weights will be saved, but unlike with TensorFlow optimizers in the TensorFlow format the optimizer's state will not be saved.\n",
      "\n",
      "Consider using a TensorFlow optimizer from `tf.train`.\n",
      "612000/612000 [==============================] - 20s 33us/step - loss: 3.2825 - acc: 0.2514 - top_3_accuracy: 0.4401 - val_loss: 2.8518 - val_acc: 0.3422 - val_top_3_accuracy: 0.5509\n",
      "Epoch 21/100\n",
      "610304/612000 [============================>.] - ETA: 0s - loss: 3.2694 - acc: 0.2549 - top_3_accuracy: 0.4440\n",
      "Epoch 00021: val_loss improved from 2.85183 to 2.82562, saving model to ./modified_cnn_model_weights.hdf5\n",
      "WARNING:tensorflow:This model was compiled with a Keras optimizer (<tensorflow.python.keras.optimizers.Adam object at 0x7f27c8297a58>) but is being saved in TensorFlow format with `save_weights`. The model's weights will be saved, but unlike with TensorFlow optimizers in the TensorFlow format the optimizer's state will not be saved.\n",
      "\n",
      "Consider using a TensorFlow optimizer from `tf.train`.\n"
     ]
    },
    {
     "name": "stdout",
     "output_type": "stream",
     "text": [
      "612000/612000 [==============================] - 20s 33us/step - loss: 3.2695 - acc: 0.2549 - top_3_accuracy: 0.4440 - val_loss: 2.8256 - val_acc: 0.3455 - val_top_3_accuracy: 0.5545\n",
      "Epoch 22/100\n",
      "610304/612000 [============================>.] - ETA: 0s - loss: 3.2595 - acc: 0.2564 - top_3_accuracy: 0.4462\n",
      "Epoch 00022: val_loss improved from 2.82562 to 2.82284, saving model to ./modified_cnn_model_weights.hdf5\n",
      "WARNING:tensorflow:This model was compiled with a Keras optimizer (<tensorflow.python.keras.optimizers.Adam object at 0x7f27c8297a58>) but is being saved in TensorFlow format with `save_weights`. The model's weights will be saved, but unlike with TensorFlow optimizers in the TensorFlow format the optimizer's state will not be saved.\n",
      "\n",
      "Consider using a TensorFlow optimizer from `tf.train`.\n",
      "612000/612000 [==============================] - 20s 33us/step - loss: 3.2595 - acc: 0.2563 - top_3_accuracy: 0.4462 - val_loss: 2.8228 - val_acc: 0.3472 - val_top_3_accuracy: 0.5545\n",
      "Epoch 23/100\n",
      "610304/612000 [============================>.] - ETA: 0s - loss: 3.2497 - acc: 0.2580 - top_3_accuracy: 0.4481\n",
      "Epoch 00023: val_loss improved from 2.82284 to 2.81010, saving model to ./modified_cnn_model_weights.hdf5\n",
      "WARNING:tensorflow:This model was compiled with a Keras optimizer (<tensorflow.python.keras.optimizers.Adam object at 0x7f27c8297a58>) but is being saved in TensorFlow format with `save_weights`. The model's weights will be saved, but unlike with TensorFlow optimizers in the TensorFlow format the optimizer's state will not be saved.\n",
      "\n",
      "Consider using a TensorFlow optimizer from `tf.train`.\n",
      "612000/612000 [==============================] - 20s 33us/step - loss: 3.2498 - acc: 0.2580 - top_3_accuracy: 0.4481 - val_loss: 2.8101 - val_acc: 0.3501 - val_top_3_accuracy: 0.5576\n",
      "Epoch 24/100\n",
      "610304/612000 [============================>.] - ETA: 0s - loss: 3.2364 - acc: 0.2602 - top_3_accuracy: 0.4508\n",
      "Epoch 00024: val_loss improved from 2.81010 to 2.79331, saving model to ./modified_cnn_model_weights.hdf5\n",
      "WARNING:tensorflow:This model was compiled with a Keras optimizer (<tensorflow.python.keras.optimizers.Adam object at 0x7f27c8297a58>) but is being saved in TensorFlow format with `save_weights`. The model's weights will be saved, but unlike with TensorFlow optimizers in the TensorFlow format the optimizer's state will not be saved.\n",
      "\n",
      "Consider using a TensorFlow optimizer from `tf.train`.\n",
      "612000/612000 [==============================] - 21s 34us/step - loss: 3.2364 - acc: 0.2602 - top_3_accuracy: 0.4508 - val_loss: 2.7933 - val_acc: 0.3539 - val_top_3_accuracy: 0.5621\n",
      "Epoch 25/100\n",
      "610304/612000 [============================>.] - ETA: 0s - loss: 3.2250 - acc: 0.2620 - top_3_accuracy: 0.4529\n",
      "Epoch 00025: val_loss improved from 2.79331 to 2.78423, saving model to ./modified_cnn_model_weights.hdf5\n",
      "WARNING:tensorflow:This model was compiled with a Keras optimizer (<tensorflow.python.keras.optimizers.Adam object at 0x7f27c8297a58>) but is being saved in TensorFlow format with `save_weights`. The model's weights will be saved, but unlike with TensorFlow optimizers in the TensorFlow format the optimizer's state will not be saved.\n",
      "\n",
      "Consider using a TensorFlow optimizer from `tf.train`.\n",
      "612000/612000 [==============================] - 21s 34us/step - loss: 3.2249 - acc: 0.2620 - top_3_accuracy: 0.4530 - val_loss: 2.7842 - val_acc: 0.3539 - val_top_3_accuracy: 0.5633\n",
      "Epoch 26/100\n",
      "610304/612000 [============================>.] - ETA: 0s - loss: 3.2187 - acc: 0.2635 - top_3_accuracy: 0.4554\n",
      "Epoch 00026: val_loss improved from 2.78423 to 2.76931, saving model to ./modified_cnn_model_weights.hdf5\n",
      "WARNING:tensorflow:This model was compiled with a Keras optimizer (<tensorflow.python.keras.optimizers.Adam object at 0x7f27c8297a58>) but is being saved in TensorFlow format with `save_weights`. The model's weights will be saved, but unlike with TensorFlow optimizers in the TensorFlow format the optimizer's state will not be saved.\n",
      "\n",
      "Consider using a TensorFlow optimizer from `tf.train`.\n",
      "612000/612000 [==============================] - 21s 34us/step - loss: 3.2187 - acc: 0.2634 - top_3_accuracy: 0.4554 - val_loss: 2.7693 - val_acc: 0.3566 - val_top_3_accuracy: 0.5647\n",
      "Epoch 27/100\n",
      "610304/612000 [============================>.] - ETA: 0s - loss: 3.2071 - acc: 0.2653 - top_3_accuracy: 0.4573\n",
      "Epoch 00027: val_loss improved from 2.76931 to 2.76804, saving model to ./modified_cnn_model_weights.hdf5\n",
      "WARNING:tensorflow:This model was compiled with a Keras optimizer (<tensorflow.python.keras.optimizers.Adam object at 0x7f27c8297a58>) but is being saved in TensorFlow format with `save_weights`. The model's weights will be saved, but unlike with TensorFlow optimizers in the TensorFlow format the optimizer's state will not be saved.\n",
      "\n",
      "Consider using a TensorFlow optimizer from `tf.train`.\n",
      "612000/612000 [==============================] - 20s 33us/step - loss: 3.2073 - acc: 0.2653 - top_3_accuracy: 0.4573 - val_loss: 2.7680 - val_acc: 0.3554 - val_top_3_accuracy: 0.5664\n",
      "Epoch 28/100\n",
      "610304/612000 [============================>.] - ETA: 0s - loss: 3.1988 - acc: 0.2667 - top_3_accuracy: 0.4593\n",
      "Epoch 00028: val_loss improved from 2.76804 to 2.74897, saving model to ./modified_cnn_model_weights.hdf5\n",
      "WARNING:tensorflow:This model was compiled with a Keras optimizer (<tensorflow.python.keras.optimizers.Adam object at 0x7f27c8297a58>) but is being saved in TensorFlow format with `save_weights`. The model's weights will be saved, but unlike with TensorFlow optimizers in the TensorFlow format the optimizer's state will not be saved.\n",
      "\n",
      "Consider using a TensorFlow optimizer from `tf.train`.\n",
      "612000/612000 [==============================] - 20s 33us/step - loss: 3.1988 - acc: 0.2667 - top_3_accuracy: 0.4592 - val_loss: 2.7490 - val_acc: 0.3605 - val_top_3_accuracy: 0.5686\n",
      "Epoch 29/100\n",
      "610304/612000 [============================>.] - ETA: 0s - loss: 3.1881 - acc: 0.2687 - top_3_accuracy: 0.4614\n",
      "Epoch 00029: val_loss improved from 2.74897 to 2.74131, saving model to ./modified_cnn_model_weights.hdf5\n",
      "WARNING:tensorflow:This model was compiled with a Keras optimizer (<tensorflow.python.keras.optimizers.Adam object at 0x7f27c8297a58>) but is being saved in TensorFlow format with `save_weights`. The model's weights will be saved, but unlike with TensorFlow optimizers in the TensorFlow format the optimizer's state will not be saved.\n",
      "\n",
      "Consider using a TensorFlow optimizer from `tf.train`.\n",
      "612000/612000 [==============================] - 20s 33us/step - loss: 3.1883 - acc: 0.2687 - top_3_accuracy: 0.4614 - val_loss: 2.7413 - val_acc: 0.3623 - val_top_3_accuracy: 0.5710\n",
      "Epoch 30/100\n",
      "610304/612000 [============================>.] - ETA: 0s - loss: 3.1828 - acc: 0.2697 - top_3_accuracy: 0.4618\n",
      "Epoch 00030: val_loss did not improve from 2.74131\n",
      "612000/612000 [==============================] - 20s 33us/step - loss: 3.1829 - acc: 0.2697 - top_3_accuracy: 0.4618 - val_loss: 2.7468 - val_acc: 0.3612 - val_top_3_accuracy: 0.5712\n",
      "Epoch 31/100\n",
      "610304/612000 [============================>.] - ETA: 0s - loss: 3.1781 - acc: 0.2701 - top_3_accuracy: 0.4631\n",
      "Epoch 00031: val_loss improved from 2.74131 to 2.72120, saving model to ./modified_cnn_model_weights.hdf5\n",
      "WARNING:tensorflow:This model was compiled with a Keras optimizer (<tensorflow.python.keras.optimizers.Adam object at 0x7f27c8297a58>) but is being saved in TensorFlow format with `save_weights`. The model's weights will be saved, but unlike with TensorFlow optimizers in the TensorFlow format the optimizer's state will not be saved.\n",
      "\n",
      "Consider using a TensorFlow optimizer from `tf.train`.\n",
      "612000/612000 [==============================] - 20s 33us/step - loss: 3.1779 - acc: 0.2701 - top_3_accuracy: 0.4632 - val_loss: 2.7212 - val_acc: 0.3664 - val_top_3_accuracy: 0.5748\n",
      "Epoch 32/100\n",
      "610304/612000 [============================>.] - ETA: 0s - loss: 3.1691 - acc: 0.2716 - top_3_accuracy: 0.4653\n",
      "Epoch 00032: val_loss improved from 2.72120 to 2.71771, saving model to ./modified_cnn_model_weights.hdf5\n",
      "WARNING:tensorflow:This model was compiled with a Keras optimizer (<tensorflow.python.keras.optimizers.Adam object at 0x7f27c8297a58>) but is being saved in TensorFlow format with `save_weights`. The model's weights will be saved, but unlike with TensorFlow optimizers in the TensorFlow format the optimizer's state will not be saved.\n",
      "\n",
      "Consider using a TensorFlow optimizer from `tf.train`.\n"
     ]
    },
    {
     "name": "stdout",
     "output_type": "stream",
     "text": [
      "612000/612000 [==============================] - 20s 33us/step - loss: 3.1692 - acc: 0.2716 - top_3_accuracy: 0.4653 - val_loss: 2.7177 - val_acc: 0.3652 - val_top_3_accuracy: 0.5756\n",
      "Epoch 33/100\n",
      "610304/612000 [============================>.] - ETA: 0s - loss: 3.1600 - acc: 0.2724 - top_3_accuracy: 0.4672\n",
      "Epoch 00033: val_loss improved from 2.71771 to 2.70233, saving model to ./modified_cnn_model_weights.hdf5\n",
      "WARNING:tensorflow:This model was compiled with a Keras optimizer (<tensorflow.python.keras.optimizers.Adam object at 0x7f27c8297a58>) but is being saved in TensorFlow format with `save_weights`. The model's weights will be saved, but unlike with TensorFlow optimizers in the TensorFlow format the optimizer's state will not be saved.\n",
      "\n",
      "Consider using a TensorFlow optimizer from `tf.train`.\n",
      "612000/612000 [==============================] - 20s 33us/step - loss: 3.1599 - acc: 0.2725 - top_3_accuracy: 0.4672 - val_loss: 2.7023 - val_acc: 0.3689 - val_top_3_accuracy: 0.5777\n",
      "Epoch 34/100\n",
      "610304/612000 [============================>.] - ETA: 0s - loss: 3.1523 - acc: 0.2735 - top_3_accuracy: 0.4689\n",
      "Epoch 00034: val_loss did not improve from 2.70233\n",
      "612000/612000 [==============================] - 20s 33us/step - loss: 3.1522 - acc: 0.2735 - top_3_accuracy: 0.4689 - val_loss: 2.7281 - val_acc: 0.3664 - val_top_3_accuracy: 0.5745\n",
      "Epoch 35/100\n",
      "610304/612000 [============================>.] - ETA: 0s - loss: 3.1470 - acc: 0.2755 - top_3_accuracy: 0.4703\n",
      "Epoch 00035: val_loss improved from 2.70233 to 2.69124, saving model to ./modified_cnn_model_weights.hdf5\n",
      "WARNING:tensorflow:This model was compiled with a Keras optimizer (<tensorflow.python.keras.optimizers.Adam object at 0x7f27c8297a58>) but is being saved in TensorFlow format with `save_weights`. The model's weights will be saved, but unlike with TensorFlow optimizers in the TensorFlow format the optimizer's state will not be saved.\n",
      "\n",
      "Consider using a TensorFlow optimizer from `tf.train`.\n",
      "612000/612000 [==============================] - 20s 33us/step - loss: 3.1469 - acc: 0.2755 - top_3_accuracy: 0.4703 - val_loss: 2.6912 - val_acc: 0.3706 - val_top_3_accuracy: 0.5802\n",
      "Epoch 36/100\n",
      "610304/612000 [============================>.] - ETA: 0s - loss: 3.1383 - acc: 0.2770 - top_3_accuracy: 0.4720\n",
      "Epoch 00036: val_loss improved from 2.69124 to 2.67802, saving model to ./modified_cnn_model_weights.hdf5\n",
      "WARNING:tensorflow:This model was compiled with a Keras optimizer (<tensorflow.python.keras.optimizers.Adam object at 0x7f27c8297a58>) but is being saved in TensorFlow format with `save_weights`. The model's weights will be saved, but unlike with TensorFlow optimizers in the TensorFlow format the optimizer's state will not be saved.\n",
      "\n",
      "Consider using a TensorFlow optimizer from `tf.train`.\n",
      "612000/612000 [==============================] - 20s 33us/step - loss: 3.1383 - acc: 0.2770 - top_3_accuracy: 0.4720 - val_loss: 2.6780 - val_acc: 0.3730 - val_top_3_accuracy: 0.5825\n",
      "Epoch 37/100\n",
      "610304/612000 [============================>.] - ETA: 0s - loss: 3.1312 - acc: 0.2772 - top_3_accuracy: 0.4735\n",
      "Epoch 00037: val_loss did not improve from 2.67802\n",
      "612000/612000 [==============================] - 20s 33us/step - loss: 3.1311 - acc: 0.2773 - top_3_accuracy: 0.4736 - val_loss: 2.6864 - val_acc: 0.3733 - val_top_3_accuracy: 0.5814\n",
      "Epoch 38/100\n",
      "610304/612000 [============================>.] - ETA: 0s - loss: 3.1290 - acc: 0.2784 - top_3_accuracy: 0.4740\n",
      "Epoch 00038: val_loss did not improve from 2.67802\n",
      "612000/612000 [==============================] - 21s 34us/step - loss: 3.1290 - acc: 0.2784 - top_3_accuracy: 0.4741 - val_loss: 2.6937 - val_acc: 0.3736 - val_top_3_accuracy: 0.5827\n",
      "Epoch 39/100\n",
      "610304/612000 [============================>.] - ETA: 0s - loss: 3.1193 - acc: 0.2804 - top_3_accuracy: 0.4768\n",
      "Epoch 00039: val_loss improved from 2.67802 to 2.65808, saving model to ./modified_cnn_model_weights.hdf5\n",
      "WARNING:tensorflow:This model was compiled with a Keras optimizer (<tensorflow.python.keras.optimizers.Adam object at 0x7f27c8297a58>) but is being saved in TensorFlow format with `save_weights`. The model's weights will be saved, but unlike with TensorFlow optimizers in the TensorFlow format the optimizer's state will not be saved.\n",
      "\n",
      "Consider using a TensorFlow optimizer from `tf.train`.\n",
      "612000/612000 [==============================] - 21s 34us/step - loss: 3.1193 - acc: 0.2804 - top_3_accuracy: 0.4768 - val_loss: 2.6581 - val_acc: 0.3757 - val_top_3_accuracy: 0.5856\n",
      "Epoch 40/100\n",
      "610304/612000 [============================>.] - ETA: 0s - loss: 3.1182 - acc: 0.2803 - top_3_accuracy: 0.4766\n",
      "Epoch 00040: val_loss did not improve from 2.65808\n",
      "612000/612000 [==============================] - 20s 33us/step - loss: 3.1182 - acc: 0.2804 - top_3_accuracy: 0.4766 - val_loss: 2.6688 - val_acc: 0.3741 - val_top_3_accuracy: 0.5854\n",
      "Epoch 41/100\n",
      "610304/612000 [============================>.] - ETA: 0s - loss: 3.1114 - acc: 0.2815 - top_3_accuracy: 0.4773\n",
      "Epoch 00041: val_loss did not improve from 2.65808\n",
      "612000/612000 [==============================] - 21s 34us/step - loss: 3.1113 - acc: 0.2815 - top_3_accuracy: 0.4773 - val_loss: 2.6705 - val_acc: 0.3740 - val_top_3_accuracy: 0.5838\n",
      "Epoch 42/100\n",
      "610304/612000 [============================>.] - ETA: 0s - loss: 3.1079 - acc: 0.2820 - top_3_accuracy: 0.4787\n",
      "Epoch 00042: val_loss improved from 2.65808 to 2.64778, saving model to ./modified_cnn_model_weights.hdf5\n",
      "WARNING:tensorflow:This model was compiled with a Keras optimizer (<tensorflow.python.keras.optimizers.Adam object at 0x7f27c8297a58>) but is being saved in TensorFlow format with `save_weights`. The model's weights will be saved, but unlike with TensorFlow optimizers in the TensorFlow format the optimizer's state will not be saved.\n",
      "\n",
      "Consider using a TensorFlow optimizer from `tf.train`.\n",
      "612000/612000 [==============================] - 21s 34us/step - loss: 3.1079 - acc: 0.2820 - top_3_accuracy: 0.4787 - val_loss: 2.6478 - val_acc: 0.3796 - val_top_3_accuracy: 0.5892\n",
      "Epoch 43/100\n",
      "610304/612000 [============================>.] - ETA: 0s - loss: 3.1047 - acc: 0.2826 - top_3_accuracy: 0.4789\n",
      "Epoch 00043: val_loss did not improve from 2.64778\n",
      "612000/612000 [==============================] - 20s 33us/step - loss: 3.1046 - acc: 0.2826 - top_3_accuracy: 0.4789 - val_loss: 2.6663 - val_acc: 0.3760 - val_top_3_accuracy: 0.5863\n",
      "Epoch 44/100\n",
      "610304/612000 [============================>.] - ETA: 0s - loss: 3.1017 - acc: 0.2829 - top_3_accuracy: 0.4796\n",
      "Epoch 00044: val_loss improved from 2.64778 to 2.64432, saving model to ./modified_cnn_model_weights.hdf5\n",
      "WARNING:tensorflow:This model was compiled with a Keras optimizer (<tensorflow.python.keras.optimizers.Adam object at 0x7f27c8297a58>) but is being saved in TensorFlow format with `save_weights`. The model's weights will be saved, but unlike with TensorFlow optimizers in the TensorFlow format the optimizer's state will not be saved.\n",
      "\n",
      "Consider using a TensorFlow optimizer from `tf.train`.\n",
      "612000/612000 [==============================] - 20s 33us/step - loss: 3.1016 - acc: 0.2829 - top_3_accuracy: 0.4796 - val_loss: 2.6443 - val_acc: 0.3784 - val_top_3_accuracy: 0.5875\n",
      "Epoch 45/100\n",
      "610304/612000 [============================>.] - ETA: 0s - loss: 3.0921 - acc: 0.2844 - top_3_accuracy: 0.4813\n",
      "Epoch 00045: val_loss improved from 2.64432 to 2.64012, saving model to ./modified_cnn_model_weights.hdf5\n",
      "WARNING:tensorflow:This model was compiled with a Keras optimizer (<tensorflow.python.keras.optimizers.Adam object at 0x7f27c8297a58>) but is being saved in TensorFlow format with `save_weights`. The model's weights will be saved, but unlike with TensorFlow optimizers in the TensorFlow format the optimizer's state will not be saved.\n",
      "\n",
      "Consider using a TensorFlow optimizer from `tf.train`.\n",
      "612000/612000 [==============================] - 20s 33us/step - loss: 3.0920 - acc: 0.2844 - top_3_accuracy: 0.4814 - val_loss: 2.6401 - val_acc: 0.3772 - val_top_3_accuracy: 0.5864\n",
      "Epoch 46/100\n",
      "610304/612000 [============================>.] - ETA: 0s - loss: 3.0871 - acc: 0.2855 - top_3_accuracy: 0.4832\n",
      "Epoch 00046: val_loss improved from 2.64012 to 2.64005, saving model to ./modified_cnn_model_weights.hdf5\n",
      "WARNING:tensorflow:This model was compiled with a Keras optimizer (<tensorflow.python.keras.optimizers.Adam object at 0x7f27c8297a58>) but is being saved in TensorFlow format with `save_weights`. The model's weights will be saved, but unlike with TensorFlow optimizers in the TensorFlow format the optimizer's state will not be saved.\n",
      "\n",
      "Consider using a TensorFlow optimizer from `tf.train`.\n"
     ]
    },
    {
     "name": "stdout",
     "output_type": "stream",
     "text": [
      "612000/612000 [==============================] - 20s 33us/step - loss: 3.0874 - acc: 0.2855 - top_3_accuracy: 0.4832 - val_loss: 2.6400 - val_acc: 0.3801 - val_top_3_accuracy: 0.5913\n",
      "Epoch 47/100\n",
      "610304/612000 [============================>.] - ETA: 0s - loss: 3.0875 - acc: 0.2857 - top_3_accuracy: 0.4826\n",
      "Epoch 00047: val_loss improved from 2.64005 to 2.63802, saving model to ./modified_cnn_model_weights.hdf5\n",
      "WARNING:tensorflow:This model was compiled with a Keras optimizer (<tensorflow.python.keras.optimizers.Adam object at 0x7f27c8297a58>) but is being saved in TensorFlow format with `save_weights`. The model's weights will be saved, but unlike with TensorFlow optimizers in the TensorFlow format the optimizer's state will not be saved.\n",
      "\n",
      "Consider using a TensorFlow optimizer from `tf.train`.\n",
      "612000/612000 [==============================] - 21s 34us/step - loss: 3.0876 - acc: 0.2857 - top_3_accuracy: 0.4825 - val_loss: 2.6380 - val_acc: 0.3786 - val_top_3_accuracy: 0.5874\n",
      "Epoch 48/100\n",
      "610304/612000 [============================>.] - ETA: 0s - loss: 3.0809 - acc: 0.2864 - top_3_accuracy: 0.4845\n",
      "Epoch 00048: val_loss improved from 2.63802 to 2.63128, saving model to ./modified_cnn_model_weights.hdf5\n",
      "WARNING:tensorflow:This model was compiled with a Keras optimizer (<tensorflow.python.keras.optimizers.Adam object at 0x7f27c8297a58>) but is being saved in TensorFlow format with `save_weights`. The model's weights will be saved, but unlike with TensorFlow optimizers in the TensorFlow format the optimizer's state will not be saved.\n",
      "\n",
      "Consider using a TensorFlow optimizer from `tf.train`.\n",
      "612000/612000 [==============================] - 21s 34us/step - loss: 3.0811 - acc: 0.2864 - top_3_accuracy: 0.4845 - val_loss: 2.6313 - val_acc: 0.3818 - val_top_3_accuracy: 0.5931\n",
      "Epoch 49/100\n",
      "610304/612000 [============================>.] - ETA: 0s - loss: 3.0780 - acc: 0.2869 - top_3_accuracy: 0.4854\n",
      "Epoch 00049: val_loss did not improve from 2.63128\n",
      "612000/612000 [==============================] - 21s 34us/step - loss: 3.0780 - acc: 0.2869 - top_3_accuracy: 0.4854 - val_loss: 2.6340 - val_acc: 0.3809 - val_top_3_accuracy: 0.5912\n",
      "Epoch 50/100\n",
      "610304/612000 [============================>.] - ETA: 0s - loss: 3.0750 - acc: 0.2877 - top_3_accuracy: 0.4857\n",
      "Epoch 00050: val_loss improved from 2.63128 to 2.62110, saving model to ./modified_cnn_model_weights.hdf5\n",
      "WARNING:tensorflow:This model was compiled with a Keras optimizer (<tensorflow.python.keras.optimizers.Adam object at 0x7f27c8297a58>) but is being saved in TensorFlow format with `save_weights`. The model's weights will be saved, but unlike with TensorFlow optimizers in the TensorFlow format the optimizer's state will not be saved.\n",
      "\n",
      "Consider using a TensorFlow optimizer from `tf.train`.\n",
      "612000/612000 [==============================] - 20s 33us/step - loss: 3.0749 - acc: 0.2878 - top_3_accuracy: 0.4857 - val_loss: 2.6211 - val_acc: 0.3847 - val_top_3_accuracy: 0.5944\n",
      "Epoch 51/100\n",
      "610304/612000 [============================>.] - ETA: 0s - loss: 3.0690 - acc: 0.2885 - top_3_accuracy: 0.4873\n",
      "Epoch 00051: val_loss improved from 2.62110 to 2.61417, saving model to ./modified_cnn_model_weights.hdf5\n",
      "WARNING:tensorflow:This model was compiled with a Keras optimizer (<tensorflow.python.keras.optimizers.Adam object at 0x7f27c8297a58>) but is being saved in TensorFlow format with `save_weights`. The model's weights will be saved, but unlike with TensorFlow optimizers in the TensorFlow format the optimizer's state will not be saved.\n",
      "\n",
      "Consider using a TensorFlow optimizer from `tf.train`.\n",
      "612000/612000 [==============================] - 21s 34us/step - loss: 3.0691 - acc: 0.2885 - top_3_accuracy: 0.4873 - val_loss: 2.6142 - val_acc: 0.3855 - val_top_3_accuracy: 0.5945\n",
      "Epoch 52/100\n",
      "610304/612000 [============================>.] - ETA: 0s - loss: 3.0664 - acc: 0.2891 - top_3_accuracy: 0.4875\n",
      "Epoch 00052: val_loss did not improve from 2.61417\n",
      "612000/612000 [==============================] - 21s 34us/step - loss: 3.0664 - acc: 0.2891 - top_3_accuracy: 0.4875 - val_loss: 2.6220 - val_acc: 0.3829 - val_top_3_accuracy: 0.5954\n",
      "Epoch 53/100\n",
      "610304/612000 [============================>.] - ETA: 0s - loss: 3.0643 - acc: 0.2897 - top_3_accuracy: 0.4884\n",
      "Epoch 00053: val_loss improved from 2.61417 to 2.60340, saving model to ./modified_cnn_model_weights.hdf5\n",
      "WARNING:tensorflow:This model was compiled with a Keras optimizer (<tensorflow.python.keras.optimizers.Adam object at 0x7f27c8297a58>) but is being saved in TensorFlow format with `save_weights`. The model's weights will be saved, but unlike with TensorFlow optimizers in the TensorFlow format the optimizer's state will not be saved.\n",
      "\n",
      "Consider using a TensorFlow optimizer from `tf.train`.\n",
      "612000/612000 [==============================] - 21s 34us/step - loss: 3.0643 - acc: 0.2897 - top_3_accuracy: 0.4884 - val_loss: 2.6034 - val_acc: 0.3856 - val_top_3_accuracy: 0.5973\n",
      "Epoch 54/100\n",
      "610304/612000 [============================>.] - ETA: 0s - loss: 3.0650 - acc: 0.2892 - top_3_accuracy: 0.4885\n",
      "Epoch 00054: val_loss did not improve from 2.60340\n",
      "612000/612000 [==============================] - 20s 33us/step - loss: 3.0651 - acc: 0.2892 - top_3_accuracy: 0.4884 - val_loss: 2.6274 - val_acc: 0.3835 - val_top_3_accuracy: 0.5936\n",
      "Epoch 55/100\n",
      "610304/612000 [============================>.] - ETA: 0s - loss: 3.0570 - acc: 0.2912 - top_3_accuracy: 0.4895\n",
      "Epoch 00055: val_loss improved from 2.60340 to 2.60327, saving model to ./modified_cnn_model_weights.hdf5\n",
      "WARNING:tensorflow:This model was compiled with a Keras optimizer (<tensorflow.python.keras.optimizers.Adam object at 0x7f27c8297a58>) but is being saved in TensorFlow format with `save_weights`. The model's weights will be saved, but unlike with TensorFlow optimizers in the TensorFlow format the optimizer's state will not be saved.\n",
      "\n",
      "Consider using a TensorFlow optimizer from `tf.train`.\n",
      "612000/612000 [==============================] - 20s 33us/step - loss: 3.0571 - acc: 0.2912 - top_3_accuracy: 0.4894 - val_loss: 2.6033 - val_acc: 0.3864 - val_top_3_accuracy: 0.5972\n",
      "Epoch 56/100\n",
      "610304/612000 [============================>.] - ETA: 0s - loss: 3.0532 - acc: 0.2920 - top_3_accuracy: 0.4903\n",
      "Epoch 00056: val_loss did not improve from 2.60327\n",
      "612000/612000 [==============================] - 20s 33us/step - loss: 3.0532 - acc: 0.2919 - top_3_accuracy: 0.4903 - val_loss: 2.6060 - val_acc: 0.3861 - val_top_3_accuracy: 0.5963\n",
      "Epoch 57/100\n",
      "610304/612000 [============================>.] - ETA: 0s - loss: 3.0517 - acc: 0.2919 - top_3_accuracy: 0.4910\n",
      "Epoch 00057: val_loss improved from 2.60327 to 2.58940, saving model to ./modified_cnn_model_weights.hdf5\n",
      "WARNING:tensorflow:This model was compiled with a Keras optimizer (<tensorflow.python.keras.optimizers.Adam object at 0x7f27c8297a58>) but is being saved in TensorFlow format with `save_weights`. The model's weights will be saved, but unlike with TensorFlow optimizers in the TensorFlow format the optimizer's state will not be saved.\n",
      "\n",
      "Consider using a TensorFlow optimizer from `tf.train`.\n",
      "612000/612000 [==============================] - 21s 34us/step - loss: 3.0517 - acc: 0.2919 - top_3_accuracy: 0.4910 - val_loss: 2.5894 - val_acc: 0.3876 - val_top_3_accuracy: 0.6001\n",
      "Epoch 58/100\n",
      "610304/612000 [============================>.] - ETA: 0s - loss: 3.0502 - acc: 0.2914 - top_3_accuracy: 0.4912\n",
      "Epoch 00058: val_loss did not improve from 2.58940\n",
      "612000/612000 [==============================] - 21s 34us/step - loss: 3.0502 - acc: 0.2913 - top_3_accuracy: 0.4911 - val_loss: 2.5960 - val_acc: 0.3867 - val_top_3_accuracy: 0.5980\n",
      "Epoch 59/100\n",
      "610304/612000 [============================>.] - ETA: 0s - loss: 3.0475 - acc: 0.2925 - top_3_accuracy: 0.4916\n",
      "Epoch 00059: val_loss did not improve from 2.58940\n",
      "612000/612000 [==============================] - 21s 34us/step - loss: 3.0476 - acc: 0.2925 - top_3_accuracy: 0.4916 - val_loss: 2.5984 - val_acc: 0.3882 - val_top_3_accuracy: 0.5996\n",
      "Epoch 60/100\n",
      "610304/612000 [============================>.] - ETA: 0s - loss: 3.0433 - acc: 0.2934 - top_3_accuracy: 0.4927\n",
      "Epoch 00060: val_loss did not improve from 2.58940\n",
      "612000/612000 [==============================] - 21s 34us/step - loss: 3.0435 - acc: 0.2933 - top_3_accuracy: 0.4926 - val_loss: 2.5895 - val_acc: 0.3897 - val_top_3_accuracy: 0.6003\n"
     ]
    },
    {
     "name": "stdout",
     "output_type": "stream",
     "text": [
      "Epoch 61/100\n",
      "610304/612000 [============================>.] - ETA: 0s - loss: 3.0435 - acc: 0.2931 - top_3_accuracy: 0.4927\n",
      "Epoch 00061: val_loss did not improve from 2.58940\n",
      "612000/612000 [==============================] - 21s 34us/step - loss: 3.0433 - acc: 0.2931 - top_3_accuracy: 0.4927 - val_loss: 2.5947 - val_acc: 0.3867 - val_top_3_accuracy: 0.6001\n",
      "Epoch 62/100\n",
      "610304/612000 [============================>.] - ETA: 0s - loss: 3.0383 - acc: 0.2931 - top_3_accuracy: 0.4940\n",
      "Epoch 00062: val_loss improved from 2.58940 to 2.58633, saving model to ./modified_cnn_model_weights.hdf5\n",
      "WARNING:tensorflow:This model was compiled with a Keras optimizer (<tensorflow.python.keras.optimizers.Adam object at 0x7f27c8297a58>) but is being saved in TensorFlow format with `save_weights`. The model's weights will be saved, but unlike with TensorFlow optimizers in the TensorFlow format the optimizer's state will not be saved.\n",
      "\n",
      "Consider using a TensorFlow optimizer from `tf.train`.\n",
      "612000/612000 [==============================] - 21s 34us/step - loss: 3.0385 - acc: 0.2931 - top_3_accuracy: 0.4940 - val_loss: 2.5863 - val_acc: 0.3896 - val_top_3_accuracy: 0.6016\n",
      "Epoch 63/100\n",
      "610304/612000 [============================>.] - ETA: 0s - loss: 3.0358 - acc: 0.2941 - top_3_accuracy: 0.4941\n",
      "Epoch 00063: val_loss did not improve from 2.58633\n",
      "612000/612000 [==============================] - 21s 34us/step - loss: 3.0357 - acc: 0.2941 - top_3_accuracy: 0.4941 - val_loss: 2.5932 - val_acc: 0.3867 - val_top_3_accuracy: 0.5993\n",
      "Epoch 64/100\n",
      "610304/612000 [============================>.] - ETA: 0s - loss: 3.0309 - acc: 0.2957 - top_3_accuracy: 0.4954\n",
      "Epoch 00064: val_loss improved from 2.58633 to 2.58309, saving model to ./modified_cnn_model_weights.hdf5\n",
      "WARNING:tensorflow:This model was compiled with a Keras optimizer (<tensorflow.python.keras.optimizers.Adam object at 0x7f27c8297a58>) but is being saved in TensorFlow format with `save_weights`. The model's weights will be saved, but unlike with TensorFlow optimizers in the TensorFlow format the optimizer's state will not be saved.\n",
      "\n",
      "Consider using a TensorFlow optimizer from `tf.train`.\n",
      "612000/612000 [==============================] - 21s 34us/step - loss: 3.0309 - acc: 0.2957 - top_3_accuracy: 0.4954 - val_loss: 2.5831 - val_acc: 0.3901 - val_top_3_accuracy: 0.6021\n",
      "Epoch 65/100\n",
      "610304/612000 [============================>.] - ETA: 0s - loss: 3.0310 - acc: 0.2950 - top_3_accuracy: 0.4951\n",
      "Epoch 00065: val_loss improved from 2.58309 to 2.58101, saving model to ./modified_cnn_model_weights.hdf5\n",
      "WARNING:tensorflow:This model was compiled with a Keras optimizer (<tensorflow.python.keras.optimizers.Adam object at 0x7f27c8297a58>) but is being saved in TensorFlow format with `save_weights`. The model's weights will be saved, but unlike with TensorFlow optimizers in the TensorFlow format the optimizer's state will not be saved.\n",
      "\n",
      "Consider using a TensorFlow optimizer from `tf.train`.\n",
      "612000/612000 [==============================] - 21s 34us/step - loss: 3.0312 - acc: 0.2950 - top_3_accuracy: 0.4951 - val_loss: 2.5810 - val_acc: 0.3892 - val_top_3_accuracy: 0.6019\n",
      "Epoch 66/100\n",
      "610304/612000 [============================>.] - ETA: 0s - loss: 3.0274 - acc: 0.2964 - top_3_accuracy: 0.4967\n",
      "Epoch 00066: val_loss did not improve from 2.58101\n",
      "612000/612000 [==============================] - 21s 34us/step - loss: 3.0277 - acc: 0.2964 - top_3_accuracy: 0.4966 - val_loss: 2.5833 - val_acc: 0.3908 - val_top_3_accuracy: 0.6015\n",
      "Epoch 67/100\n",
      "610304/612000 [============================>.] - ETA: 0s - loss: 3.0252 - acc: 0.2963 - top_3_accuracy: 0.4965\n",
      "Epoch 00067: val_loss improved from 2.58101 to 2.56310, saving model to ./modified_cnn_model_weights.hdf5\n",
      "WARNING:tensorflow:This model was compiled with a Keras optimizer (<tensorflow.python.keras.optimizers.Adam object at 0x7f27c8297a58>) but is being saved in TensorFlow format with `save_weights`. The model's weights will be saved, but unlike with TensorFlow optimizers in the TensorFlow format the optimizer's state will not be saved.\n",
      "\n",
      "Consider using a TensorFlow optimizer from `tf.train`.\n",
      "612000/612000 [==============================] - 21s 34us/step - loss: 3.0251 - acc: 0.2963 - top_3_accuracy: 0.4965 - val_loss: 2.5631 - val_acc: 0.3922 - val_top_3_accuracy: 0.6032\n",
      "Epoch 68/100\n",
      "610304/612000 [============================>.] - ETA: 0s - loss: 3.0233 - acc: 0.2967 - top_3_accuracy: 0.4968\n",
      "Epoch 00068: val_loss did not improve from 2.56310\n",
      "612000/612000 [==============================] - 21s 34us/step - loss: 3.0232 - acc: 0.2967 - top_3_accuracy: 0.4968 - val_loss: 2.5751 - val_acc: 0.3916 - val_top_3_accuracy: 0.6033\n",
      "Epoch 69/100\n",
      "610304/612000 [============================>.] - ETA: 0s - loss: 3.0201 - acc: 0.2974 - top_3_accuracy: 0.4980\n",
      "Epoch 00069: val_loss did not improve from 2.56310\n",
      "612000/612000 [==============================] - 21s 34us/step - loss: 3.0199 - acc: 0.2974 - top_3_accuracy: 0.4980 - val_loss: 2.5834 - val_acc: 0.3890 - val_top_3_accuracy: 0.6012\n",
      "Epoch 70/100\n",
      "610304/612000 [============================>.] - ETA: 0s - loss: 3.0167 - acc: 0.2974 - top_3_accuracy: 0.4986\n",
      "Epoch 00070: val_loss did not improve from 2.56310\n",
      "612000/612000 [==============================] - 20s 33us/step - loss: 3.0167 - acc: 0.2974 - top_3_accuracy: 0.4986 - val_loss: 2.5654 - val_acc: 0.3920 - val_top_3_accuracy: 0.6049\n",
      "Epoch 71/100\n",
      "610304/612000 [============================>.] - ETA: 0s - loss: 3.0149 - acc: 0.2974 - top_3_accuracy: 0.4990\n",
      "Epoch 00071: val_loss did not improve from 2.56310\n",
      "612000/612000 [==============================] - 21s 34us/step - loss: 3.0150 - acc: 0.2975 - top_3_accuracy: 0.4990 - val_loss: 2.5758 - val_acc: 0.3904 - val_top_3_accuracy: 0.6029\n",
      "Epoch 72/100\n",
      "610304/612000 [============================>.] - ETA: 0s - loss: 3.0156 - acc: 0.2983 - top_3_accuracy: 0.4985\n",
      "Epoch 00072: val_loss did not improve from 2.56310\n",
      "612000/612000 [==============================] - 21s 34us/step - loss: 3.0157 - acc: 0.2983 - top_3_accuracy: 0.4985 - val_loss: 2.5657 - val_acc: 0.3931 - val_top_3_accuracy: 0.6053\n",
      "Epoch 73/100\n",
      "610304/612000 [============================>.] - ETA: 0s - loss: 3.0094 - acc: 0.2992 - top_3_accuracy: 0.5000\n",
      "Epoch 00073: val_loss did not improve from 2.56310\n",
      "612000/612000 [==============================] - 21s 34us/step - loss: 3.0096 - acc: 0.2991 - top_3_accuracy: 0.5000 - val_loss: 2.5661 - val_acc: 0.3934 - val_top_3_accuracy: 0.6047\n",
      "Epoch 74/100\n",
      "610304/612000 [============================>.] - ETA: 0s - loss: 3.0102 - acc: 0.2993 - top_3_accuracy: 0.4998\n",
      "Epoch 00074: val_loss did not improve from 2.56310\n",
      "612000/612000 [==============================] - 21s 34us/step - loss: 3.0100 - acc: 0.2993 - top_3_accuracy: 0.4998 - val_loss: 2.5735 - val_acc: 0.3930 - val_top_3_accuracy: 0.6042\n",
      "Epoch 75/100\n",
      "610304/612000 [============================>.] - ETA: 0s - loss: 3.0058 - acc: 0.2997 - top_3_accuracy: 0.5009\n",
      "Epoch 00075: val_loss improved from 2.56310 to 2.55803, saving model to ./modified_cnn_model_weights.hdf5\n",
      "WARNING:tensorflow:This model was compiled with a Keras optimizer (<tensorflow.python.keras.optimizers.Adam object at 0x7f27c8297a58>) but is being saved in TensorFlow format with `save_weights`. The model's weights will be saved, but unlike with TensorFlow optimizers in the TensorFlow format the optimizer's state will not be saved.\n",
      "\n",
      "Consider using a TensorFlow optimizer from `tf.train`.\n",
      "612000/612000 [==============================] - 21s 34us/step - loss: 3.0056 - acc: 0.2997 - top_3_accuracy: 0.5010 - val_loss: 2.5580 - val_acc: 0.3940 - val_top_3_accuracy: 0.6059\n",
      "Epoch 76/100\n",
      "610304/612000 [============================>.] - ETA: 0s - loss: 3.0049 - acc: 0.2996 - top_3_accuracy: 0.5014\n",
      "Epoch 00076: val_loss improved from 2.55803 to 2.55606, saving model to ./modified_cnn_model_weights.hdf5\n",
      "WARNING:tensorflow:This model was compiled with a Keras optimizer (<tensorflow.python.keras.optimizers.Adam object at 0x7f27c8297a58>) but is being saved in TensorFlow format with `save_weights`. The model's weights will be saved, but unlike with TensorFlow optimizers in the TensorFlow format the optimizer's state will not be saved.\n",
      "\n",
      "Consider using a TensorFlow optimizer from `tf.train`.\n"
     ]
    },
    {
     "name": "stdout",
     "output_type": "stream",
     "text": [
      "612000/612000 [==============================] - 21s 34us/step - loss: 3.0049 - acc: 0.2995 - top_3_accuracy: 0.5013 - val_loss: 2.5561 - val_acc: 0.3941 - val_top_3_accuracy: 0.6078\n",
      "Epoch 77/100\n",
      "610304/612000 [============================>.] - ETA: 0s - loss: 3.0045 - acc: 0.2999 - top_3_accuracy: 0.5008\n",
      "Epoch 00077: val_loss improved from 2.55606 to 2.55096, saving model to ./modified_cnn_model_weights.hdf5\n",
      "WARNING:tensorflow:This model was compiled with a Keras optimizer (<tensorflow.python.keras.optimizers.Adam object at 0x7f27c8297a58>) but is being saved in TensorFlow format with `save_weights`. The model's weights will be saved, but unlike with TensorFlow optimizers in the TensorFlow format the optimizer's state will not be saved.\n",
      "\n",
      "Consider using a TensorFlow optimizer from `tf.train`.\n",
      "612000/612000 [==============================] - 21s 34us/step - loss: 3.0044 - acc: 0.2998 - top_3_accuracy: 0.5009 - val_loss: 2.5510 - val_acc: 0.3933 - val_top_3_accuracy: 0.6075\n",
      "Epoch 78/100\n",
      "610304/612000 [============================>.] - ETA: 0s - loss: 3.0026 - acc: 0.3007 - top_3_accuracy: 0.5013\n",
      "Epoch 00078: val_loss improved from 2.55096 to 2.55093, saving model to ./modified_cnn_model_weights.hdf5\n",
      "WARNING:tensorflow:This model was compiled with a Keras optimizer (<tensorflow.python.keras.optimizers.Adam object at 0x7f27c8297a58>) but is being saved in TensorFlow format with `save_weights`. The model's weights will be saved, but unlike with TensorFlow optimizers in the TensorFlow format the optimizer's state will not be saved.\n",
      "\n",
      "Consider using a TensorFlow optimizer from `tf.train`.\n",
      "612000/612000 [==============================] - 21s 34us/step - loss: 3.0026 - acc: 0.3007 - top_3_accuracy: 0.5013 - val_loss: 2.5509 - val_acc: 0.3953 - val_top_3_accuracy: 0.6060\n",
      "Epoch 79/100\n",
      "610304/612000 [============================>.] - ETA: 0s - loss: 3.0026 - acc: 0.3003 - top_3_accuracy: 0.5012\n",
      "Epoch 00079: val_loss improved from 2.55093 to 2.54509, saving model to ./modified_cnn_model_weights.hdf5\n",
      "WARNING:tensorflow:This model was compiled with a Keras optimizer (<tensorflow.python.keras.optimizers.Adam object at 0x7f27c8297a58>) but is being saved in TensorFlow format with `save_weights`. The model's weights will be saved, but unlike with TensorFlow optimizers in the TensorFlow format the optimizer's state will not be saved.\n",
      "\n",
      "Consider using a TensorFlow optimizer from `tf.train`.\n",
      "612000/612000 [==============================] - 21s 34us/step - loss: 3.0026 - acc: 0.3003 - top_3_accuracy: 0.5012 - val_loss: 2.5451 - val_acc: 0.3955 - val_top_3_accuracy: 0.6093\n",
      "Epoch 80/100\n",
      "610304/612000 [============================>.] - ETA: 0s - loss: 2.9994 - acc: 0.3007 - top_3_accuracy: 0.5024\n",
      "Epoch 00080: val_loss did not improve from 2.54509\n",
      "612000/612000 [==============================] - 21s 34us/step - loss: 2.9995 - acc: 0.3006 - top_3_accuracy: 0.5024 - val_loss: 2.5457 - val_acc: 0.3955 - val_top_3_accuracy: 0.6086\n",
      "Epoch 81/100\n",
      "610304/612000 [============================>.] - ETA: 0s - loss: 2.9971 - acc: 0.3013 - top_3_accuracy: 0.5030\n",
      "Epoch 00081: val_loss did not improve from 2.54509\n",
      "612000/612000 [==============================] - 21s 34us/step - loss: 2.9971 - acc: 0.3013 - top_3_accuracy: 0.5030 - val_loss: 2.5538 - val_acc: 0.3956 - val_top_3_accuracy: 0.6075\n",
      "Epoch 82/100\n",
      "610304/612000 [============================>.] - ETA: 0s - loss: 2.9995 - acc: 0.3007 - top_3_accuracy: 0.5025\n",
      "Epoch 00082: val_loss improved from 2.54509 to 2.54260, saving model to ./modified_cnn_model_weights.hdf5\n",
      "WARNING:tensorflow:This model was compiled with a Keras optimizer (<tensorflow.python.keras.optimizers.Adam object at 0x7f27c8297a58>) but is being saved in TensorFlow format with `save_weights`. The model's weights will be saved, but unlike with TensorFlow optimizers in the TensorFlow format the optimizer's state will not be saved.\n",
      "\n",
      "Consider using a TensorFlow optimizer from `tf.train`.\n",
      "612000/612000 [==============================] - 21s 34us/step - loss: 2.9995 - acc: 0.3007 - top_3_accuracy: 0.5024 - val_loss: 2.5426 - val_acc: 0.3971 - val_top_3_accuracy: 0.6090\n",
      "Epoch 83/100\n",
      "610304/612000 [============================>.] - ETA: 0s - loss: 2.9943 - acc: 0.3019 - top_3_accuracy: 0.5035\n",
      "Epoch 00083: val_loss improved from 2.54260 to 2.54231, saving model to ./modified_cnn_model_weights.hdf5\n",
      "WARNING:tensorflow:This model was compiled with a Keras optimizer (<tensorflow.python.keras.optimizers.Adam object at 0x7f27c8297a58>) but is being saved in TensorFlow format with `save_weights`. The model's weights will be saved, but unlike with TensorFlow optimizers in the TensorFlow format the optimizer's state will not be saved.\n",
      "\n",
      "Consider using a TensorFlow optimizer from `tf.train`.\n",
      "612000/612000 [==============================] - 21s 34us/step - loss: 2.9943 - acc: 0.3019 - top_3_accuracy: 0.5035 - val_loss: 2.5423 - val_acc: 0.3971 - val_top_3_accuracy: 0.6097\n",
      "Epoch 84/100\n",
      "610304/612000 [============================>.] - ETA: 0s - loss: 2.9928 - acc: 0.3024 - top_3_accuracy: 0.5039\n",
      "Epoch 00084: val_loss did not improve from 2.54231\n",
      "612000/612000 [==============================] - 21s 34us/step - loss: 2.9928 - acc: 0.3024 - top_3_accuracy: 0.5039 - val_loss: 2.5575 - val_acc: 0.3946 - val_top_3_accuracy: 0.6079\n",
      "Epoch 85/100\n",
      "610304/612000 [============================>.] - ETA: 0s - loss: 2.9920 - acc: 0.3018 - top_3_accuracy: 0.5038\n",
      "Epoch 00085: val_loss improved from 2.54231 to 2.53581, saving model to ./modified_cnn_model_weights.hdf5\n",
      "WARNING:tensorflow:This model was compiled with a Keras optimizer (<tensorflow.python.keras.optimizers.Adam object at 0x7f27c8297a58>) but is being saved in TensorFlow format with `save_weights`. The model's weights will be saved, but unlike with TensorFlow optimizers in the TensorFlow format the optimizer's state will not be saved.\n",
      "\n",
      "Consider using a TensorFlow optimizer from `tf.train`.\n",
      "612000/612000 [==============================] - 20s 33us/step - loss: 2.9919 - acc: 0.3018 - top_3_accuracy: 0.5038 - val_loss: 2.5358 - val_acc: 0.3966 - val_top_3_accuracy: 0.6092\n",
      "Epoch 86/100\n",
      "610304/612000 [============================>.] - ETA: 0s - loss: 2.9897 - acc: 0.3028 - top_3_accuracy: 0.5046\n",
      "Epoch 00086: val_loss did not improve from 2.53581\n",
      "612000/612000 [==============================] - 21s 34us/step - loss: 2.9898 - acc: 0.3027 - top_3_accuracy: 0.5046 - val_loss: 2.5399 - val_acc: 0.3982 - val_top_3_accuracy: 0.6115\n",
      "Epoch 87/100\n",
      "610304/612000 [============================>.] - ETA: 0s - loss: 2.9878 - acc: 0.3023 - top_3_accuracy: 0.5046\n",
      "Epoch 00087: val_loss did not improve from 2.53581\n",
      "612000/612000 [==============================] - 21s 34us/step - loss: 2.9879 - acc: 0.3022 - top_3_accuracy: 0.5046 - val_loss: 2.5430 - val_acc: 0.3954 - val_top_3_accuracy: 0.6084\n",
      "Epoch 88/100\n",
      "610304/612000 [============================>.] - ETA: 0s - loss: 2.9842 - acc: 0.3035 - top_3_accuracy: 0.5060\n",
      "Epoch 00088: val_loss improved from 2.53581 to 2.53361, saving model to ./modified_cnn_model_weights.hdf5\n",
      "WARNING:tensorflow:This model was compiled with a Keras optimizer (<tensorflow.python.keras.optimizers.Adam object at 0x7f27c8297a58>) but is being saved in TensorFlow format with `save_weights`. The model's weights will be saved, but unlike with TensorFlow optimizers in the TensorFlow format the optimizer's state will not be saved.\n",
      "\n",
      "Consider using a TensorFlow optimizer from `tf.train`.\n",
      "612000/612000 [==============================] - 21s 34us/step - loss: 2.9843 - acc: 0.3035 - top_3_accuracy: 0.5060 - val_loss: 2.5336 - val_acc: 0.3991 - val_top_3_accuracy: 0.6116\n",
      "Epoch 89/100\n",
      "610304/612000 [============================>.] - ETA: 0s - loss: 2.9878 - acc: 0.3032 - top_3_accuracy: 0.5047\n",
      "Epoch 00089: val_loss did not improve from 2.53361\n",
      "612000/612000 [==============================] - 21s 34us/step - loss: 2.9878 - acc: 0.3032 - top_3_accuracy: 0.5047 - val_loss: 2.5403 - val_acc: 0.3968 - val_top_3_accuracy: 0.6097\n",
      "Epoch 90/100\n",
      "610304/612000 [============================>.] - ETA: 0s - loss: 2.9825 - acc: 0.3041 - top_3_accuracy: 0.5055\n",
      "Epoch 00090: val_loss improved from 2.53361 to 2.53136, saving model to ./modified_cnn_model_weights.hdf5\n",
      "WARNING:tensorflow:This model was compiled with a Keras optimizer (<tensorflow.python.keras.optimizers.Adam object at 0x7f27c8297a58>) but is being saved in TensorFlow format with `save_weights`. The model's weights will be saved, but unlike with TensorFlow optimizers in the TensorFlow format the optimizer's state will not be saved.\n",
      "\n",
      "Consider using a TensorFlow optimizer from `tf.train`.\n"
     ]
    },
    {
     "name": "stdout",
     "output_type": "stream",
     "text": [
      "612000/612000 [==============================] - 21s 34us/step - loss: 2.9824 - acc: 0.3042 - top_3_accuracy: 0.5055 - val_loss: 2.5314 - val_acc: 0.3980 - val_top_3_accuracy: 0.6117\n",
      "Epoch 91/100\n",
      "610304/612000 [============================>.] - ETA: 0s - loss: 2.9841 - acc: 0.3030 - top_3_accuracy: 0.5054\n",
      "Epoch 00091: val_loss improved from 2.53136 to 2.52806, saving model to ./modified_cnn_model_weights.hdf5\n",
      "WARNING:tensorflow:This model was compiled with a Keras optimizer (<tensorflow.python.keras.optimizers.Adam object at 0x7f27c8297a58>) but is being saved in TensorFlow format with `save_weights`. The model's weights will be saved, but unlike with TensorFlow optimizers in the TensorFlow format the optimizer's state will not be saved.\n",
      "\n",
      "Consider using a TensorFlow optimizer from `tf.train`.\n",
      "612000/612000 [==============================] - 21s 34us/step - loss: 2.9840 - acc: 0.3031 - top_3_accuracy: 0.5055 - val_loss: 2.5281 - val_acc: 0.3994 - val_top_3_accuracy: 0.6129\n",
      "Epoch 92/100\n",
      "610304/612000 [============================>.] - ETA: 0s - loss: 2.9838 - acc: 0.3039 - top_3_accuracy: 0.5057\n",
      "Epoch 00092: val_loss did not improve from 2.52806\n",
      "612000/612000 [==============================] - 21s 34us/step - loss: 2.9837 - acc: 0.3040 - top_3_accuracy: 0.5058 - val_loss: 2.5322 - val_acc: 0.3982 - val_top_3_accuracy: 0.6114\n",
      "Epoch 93/100\n",
      "610304/612000 [============================>.] - ETA: 0s - loss: 2.9794 - acc: 0.3045 - top_3_accuracy: 0.5066\n",
      "Epoch 00093: val_loss did not improve from 2.52806\n",
      "612000/612000 [==============================] - 21s 34us/step - loss: 2.9796 - acc: 0.3045 - top_3_accuracy: 0.5067 - val_loss: 2.5299 - val_acc: 0.3991 - val_top_3_accuracy: 0.6117\n",
      "Epoch 94/100\n",
      "610304/612000 [============================>.] - ETA: 0s - loss: 2.9787 - acc: 0.3052 - top_3_accuracy: 0.5070\n",
      "Epoch 00094: val_loss did not improve from 2.52806\n",
      "612000/612000 [==============================] - 21s 34us/step - loss: 2.9787 - acc: 0.3052 - top_3_accuracy: 0.5070 - val_loss: 2.5311 - val_acc: 0.3999 - val_top_3_accuracy: 0.6132\n",
      "Epoch 95/100\n",
      "610304/612000 [============================>.] - ETA: 0s - loss: 2.9757 - acc: 0.3050 - top_3_accuracy: 0.5067\n",
      "Epoch 00095: val_loss did not improve from 2.52806\n",
      "612000/612000 [==============================] - 21s 34us/step - loss: 2.9756 - acc: 0.3050 - top_3_accuracy: 0.5068 - val_loss: 2.5336 - val_acc: 0.4004 - val_top_3_accuracy: 0.6118\n",
      "Epoch 96/100\n",
      "610304/612000 [============================>.] - ETA: 0s - loss: 2.9724 - acc: 0.3055 - top_3_accuracy: 0.5079\n",
      "Epoch 00096: val_loss improved from 2.52806 to 2.52461, saving model to ./modified_cnn_model_weights.hdf5\n",
      "WARNING:tensorflow:This model was compiled with a Keras optimizer (<tensorflow.python.keras.optimizers.Adam object at 0x7f27c8297a58>) but is being saved in TensorFlow format with `save_weights`. The model's weights will be saved, but unlike with TensorFlow optimizers in the TensorFlow format the optimizer's state will not be saved.\n",
      "\n",
      "Consider using a TensorFlow optimizer from `tf.train`.\n",
      "612000/612000 [==============================] - 21s 34us/step - loss: 2.9724 - acc: 0.3055 - top_3_accuracy: 0.5079 - val_loss: 2.5246 - val_acc: 0.4014 - val_top_3_accuracy: 0.6144\n",
      "Epoch 97/100\n",
      "610304/612000 [============================>.] - ETA: 0s - loss: 2.9760 - acc: 0.3051 - top_3_accuracy: 0.5084\n",
      "Epoch 00097: val_loss improved from 2.52461 to 2.51808, saving model to ./modified_cnn_model_weights.hdf5\n",
      "WARNING:tensorflow:This model was compiled with a Keras optimizer (<tensorflow.python.keras.optimizers.Adam object at 0x7f27c8297a58>) but is being saved in TensorFlow format with `save_weights`. The model's weights will be saved, but unlike with TensorFlow optimizers in the TensorFlow format the optimizer's state will not be saved.\n",
      "\n",
      "Consider using a TensorFlow optimizer from `tf.train`.\n",
      "612000/612000 [==============================] - 21s 34us/step - loss: 2.9760 - acc: 0.3051 - top_3_accuracy: 0.5084 - val_loss: 2.5181 - val_acc: 0.4004 - val_top_3_accuracy: 0.6145\n",
      "Epoch 98/100\n",
      "610304/612000 [============================>.] - ETA: 0s - loss: 2.9737 - acc: 0.3050 - top_3_accuracy: 0.5078\n",
      "Epoch 00098: val_loss did not improve from 2.51808\n",
      "612000/612000 [==============================] - 21s 34us/step - loss: 2.9737 - acc: 0.3050 - top_3_accuracy: 0.5078 - val_loss: 2.5294 - val_acc: 0.4005 - val_top_3_accuracy: 0.6133\n",
      "Epoch 99/100\n",
      "610304/612000 [============================>.] - ETA: 0s - loss: 2.9725 - acc: 0.3057 - top_3_accuracy: 0.5086\n",
      "Epoch 00099: val_loss did not improve from 2.51808\n",
      "612000/612000 [==============================] - 21s 34us/step - loss: 2.9725 - acc: 0.3057 - top_3_accuracy: 0.5086 - val_loss: 2.5209 - val_acc: 0.4019 - val_top_3_accuracy: 0.6144\n",
      "Epoch 100/100\n",
      "610304/612000 [============================>.] - ETA: 0s - loss: 2.9692 - acc: 0.3050 - top_3_accuracy: 0.5090\n",
      "Epoch 00100: val_loss did not improve from 2.51808\n",
      "612000/612000 [==============================] - 21s 34us/step - loss: 2.9692 - acc: 0.3050 - top_3_accuracy: 0.5090 - val_loss: 2.5294 - val_acc: 0.3993 - val_top_3_accuracy: 0.6127\n"
     ]
    }
   ],
   "source": [
    "history = model.fit(x=X_train, y=y_train,\n",
    "          batch_size = 4096,\n",
    "          epochs = 100,\n",
    "          validation_data = (X_val, y_val),\n",
    "          callbacks = callbacks,\n",
    "          verbose = 1)"
   ]
  },
  {
   "cell_type": "code",
   "execution_count": 14,
   "metadata": {
    "_uuid": "77a93f7b81f813b468713f20cf6f0226b20335dd"
   },
   "outputs": [
    {
     "data": {
      "text/plain": [
       "<tensorflow.python.training.checkpointable.util.CheckpointLoadStatus at 0x7f272f230d68>"
      ]
     },
     "execution_count": 14,
     "metadata": {},
     "output_type": "execute_result"
    }
   ],
   "source": [
    "model.load_weights(weight_path)"
   ]
  },
  {
   "cell_type": "code",
   "execution_count": 15,
   "metadata": {
    "_uuid": "3dbb81d002088c5cbd97f5f9185e920c3c0c229d"
   },
   "outputs": [
    {
     "name": "stdout",
     "output_type": "stream",
     "text": [
      "dict_keys(['val_loss', 'val_acc', 'val_top_3_accuracy', 'loss', 'acc', 'top_3_accuracy', 'lr'])\n"
     ]
    },
    {
     "data": {
      "image/png": "[encoded data removed]",
      "text/plain": [
       "<Figure size 432x288 with 1 Axes>"
      ]
     },
     "metadata": {
      "needs_background": "light"
     },
     "output_type": "display_data"
    },
    {
     "data": {
      "image/png": "[encoded data removed]",
      "text/plain": [
       "<Figure size 432x288 with 1 Axes>"
      ]
     },
     "metadata": {
      "needs_background": "light"
     },
     "output_type": "display_data"
    }
   ],
   "source": [
    "print(history.history.keys())\n",
    "#  \"Accuracy\"\n",
    "plt.plot(history.history['acc'])\n",
    "plt.plot(history.history['val_acc'])\n",
    "plt.title('model accuracy')\n",
    "plt.ylabel('categorical_accuracy')\n",
    "plt.xlabel('epoch')\n",
    "plt.legend(['train', 'validation'], loc='upper left')\n",
    "plt.show()\n",
    "# \"Loss\"\n",
    "plt.plot(history.history['loss'])\n",
    "plt.plot(history.history['val_loss'])\n",
    "plt.title('model loss')\n",
    "plt.ylabel('loss')\n",
    "plt.xlabel('epoch')\n",
    "plt.legend(['train', 'validation'], loc='upper left')\n",
    "plt.show()"
   ]
  },
  {
   "cell_type": "markdown",
   "metadata": {
    "_uuid": "4125359749cd237de207eca0ab62074431df8323"
   },
   "source": [
    "## Predictions on test set\n"
   ]
  },
  {
   "cell_type": "code",
   "execution_count": 16,
   "metadata": {
    "_kg_hide-input": false,
    "_kg_hide-output": true,
    "_uuid": "2828f46cdf053261a1435e6eca1a4aea55195273"
   },
   "outputs": [
    {
     "name": "stderr",
     "output_type": "stream",
     "text": [
      "100%|██████████| 55/55 [01:40<00:00,  1.81s/it]\n"
     ]
    }
   ],
   "source": [
    "#%% get test set\n",
    "ttvlist = []\n",
    "reader = pd.read_csv('./../test_simplified.csv', index_col=['key_id'],\n",
    "    chunksize=2048)\n",
    "for chunk in tqdm(reader, total=55):\n",
    "    imagebag = bag.from_sequence(chunk.drawing.values).map(draw_it)\n",
    "    testarray = np.array(imagebag.compute())\n",
    "    testarray = np.reshape(testarray, (testarray.shape[0], imheight, imwidth, 1))\n",
    "    testpreds = model.predict(testarray, verbose=0)\n",
    "    ttvs = np.argsort(-testpreds)[:, 0:3]  # top 3\n",
    "    ttvlist.append(ttvs)\n",
    "    \n",
    "ttvarray = np.concatenate(ttvlist)"
   ]
  },
  {
   "cell_type": "code",
   "execution_count": 17,
   "metadata": {
    "_kg_hide-input": false,
    "_kg_hide-output": true,
    "_uuid": "5c650c6f9a0ec6f99042e6132ffc4a25b2b2f0b3"
   },
   "outputs": [
    {
     "data": {
      "text/html": [
       "<div>\n",
       "<style scoped>\n",
       "    .dataframe tbody tr th:only-of-type {\n",
       "        vertical-align: middle;\n",
       "    }\n",
       "\n",
       "    .dataframe tbody tr th {\n",
       "        vertical-align: top;\n",
       "    }\n",
       "\n",
       "    .dataframe thead th {\n",
       "        text-align: right;\n",
       "    }\n",
       "</style>\n",
       "<table border=\"1\" class=\"dataframe\">\n",
       "  <thead>\n",
       "    <tr style=\"text-align: right;\">\n",
       "      <th></th>\n",
       "      <th>word</th>\n",
       "    </tr>\n",
       "    <tr>\n",
       "      <th>key_id</th>\n",
       "      <th></th>\n",
       "    </tr>\n",
       "  </thead>\n",
       "  <tbody>\n",
       "    <tr>\n",
       "      <th>9000003627287624</th>\n",
       "      <td>skateboard bracelet cello</td>\n",
       "    </tr>\n",
       "    <tr>\n",
       "      <th>9000010688666847</th>\n",
       "      <td>star hospital shorts</td>\n",
       "    </tr>\n",
       "    <tr>\n",
       "      <th>9000023642890129</th>\n",
       "      <td>diamond owl crown</td>\n",
       "    </tr>\n",
       "    <tr>\n",
       "      <th>9000038588854897</th>\n",
       "      <td>pool panda jacket</td>\n",
       "    </tr>\n",
       "    <tr>\n",
       "      <th>9000052667981386</th>\n",
       "      <td>airplane headphones ear</td>\n",
       "    </tr>\n",
       "  </tbody>\n",
       "</table>\n",
       "</div>"
      ],
      "text/plain": [
       "                                       word\n",
       "key_id                                     \n",
       "9000003627287624  skateboard bracelet cello\n",
       "9000010688666847       star hospital shorts\n",
       "9000023642890129          diamond owl crown\n",
       "9000038588854897          pool panda jacket\n",
       "9000052667981386    airplane headphones ear"
      ]
     },
     "execution_count": 17,
     "metadata": {},
     "output_type": "execute_result"
    }
   ],
   "source": [
    "preds_df = pd.DataFrame({'first': ttvarray[:,0], 'second': ttvarray[:,1], 'third': ttvarray[:,2]})\n",
    "preds_df = preds_df.replace(numstonames)\n",
    "preds_df['words'] = preds_df['first'] + \" \" + preds_df['second'] + \" \" + preds_df['third']\n",
    "\n",
    "sub = pd.read_csv('./../sample_submission.csv', index_col=['key_id'])\n",
    "sub['word'] = preds_df.words.values\n",
    "sub.to_csv('cnn_mod.csv')\n",
    "sub.head()"
   ]
  },
  {
   "cell_type": "code",
   "execution_count": null,
   "metadata": {},
   "outputs": [],
   "source": []
  },
  {
   "cell_type": "code",
   "execution_count": null,
   "metadata": {},
   "outputs": [],
   "source": []
  }
 ],
 "metadata": {
  "kernelspec": {
   "display_name": "Python (cs152)",
   "language": "python",
   "name": "cs152"
  },
  "language_info": {
   "codemirror_mode": {
    "name": "ipython",
    "version": 3
   },
   "file_extension": ".py",
   "mimetype": "text/x-python",
   "name": "python",
   "nbconvert_exporter": "python",
   "pygments_lexer": "ipython3",
   "version": "3.6.7"
  }
 },
 "nbformat": 4,
 "nbformat_minor": 1
}
