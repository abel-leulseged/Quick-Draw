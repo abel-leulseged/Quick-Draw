{
 "cells": [
  {
   "cell_type": "markdown",
   "metadata": {
    "_cell_guid": "b1076dfc-b9ad-4769-8c92-a6c4dae69d19",
    "_uuid": "8f2839f25d086af736a60e9eeb907d3b93b6e0e5"
   },
   "source": [
    "## Training Images\n",
    "We can look at a few sketches and then see what the training data contains overall. I'll use an adaptation of Inversion's 'Getting Started' kernel."
   ]
  },
  {
   "cell_type": "code",
   "execution_count": 1,
   "metadata": {
    "_cell_guid": "79c7e3d0-c299-4dcb-8224-4455121ee9b0",
    "_kg_hide-input": true,
    "_uuid": "d629ff2d2480ee46fbb7e2d37f6b5fab8052498a"
   },
   "outputs": [],
   "source": [
    "import os\n",
    "import re\n",
    "from glob import glob\n",
    "from tqdm import tqdm\n",
    "import numpy as np\n",
    "import pandas as pd\n",
    "import ast\n",
    "import matplotlib.pyplot as plt\n",
    "%matplotlib inline"
   ]
  },
  {
   "cell_type": "markdown",
   "metadata": {
    "_uuid": "376d2827a7f11e80f6591bfc439a9d5558ef10fc"
   },
   "source": [
    "Here's what the training data looks like. This data frame is actually a concatenation of two rows from each of 6 csv files in the training set."
   ]
  },
  {
   "cell_type": "code",
   "execution_count": 3,
   "metadata": {
    "_kg_hide-input": true,
    "_uuid": "5090c701f9121207b67e13a0ae3f239514dff217",
    "scrolled": true
   },
   "outputs": [
    {
     "data": {
      "text/html": [
       "<div>\n",
       "<style scoped>\n",
       "    .dataframe tbody tr th:only-of-type {\n",
       "        vertical-align: middle;\n",
       "    }\n",
       "\n",
       "    .dataframe tbody tr th {\n",
       "        vertical-align: top;\n",
       "    }\n",
       "\n",
       "    .dataframe thead th {\n",
       "        text-align: right;\n",
       "    }\n",
       "</style>\n",
       "<table border=\"1\" class=\"dataframe\">\n",
       "  <thead>\n",
       "    <tr style=\"text-align: right;\">\n",
       "      <th></th>\n",
       "      <th>countrycode</th>\n",
       "      <th>drawing</th>\n",
       "      <th>key_id</th>\n",
       "      <th>recognized</th>\n",
       "      <th>timestamp</th>\n",
       "      <th>word</th>\n",
       "    </tr>\n",
       "  </thead>\n",
       "  <tbody>\n",
       "    <tr>\n",
       "      <th>0</th>\n",
       "      <td>MD</td>\n",
       "      <td>[[[41, 41, 49, 41, 42], [76, 110, 157, 201, 25...</td>\n",
       "      <td>5042528606748672</td>\n",
       "      <td>True</td>\n",
       "      <td>2017-03-11 21:58:33.282340</td>\n",
       "      <td>lollipop</td>\n",
       "    </tr>\n",
       "    <tr>\n",
       "      <th>1</th>\n",
       "      <td>FI</td>\n",
       "      <td>[[[61, 65, 67], [98, 106, 255]], [[72, 66, 56,...</td>\n",
       "      <td>5232288554024960</td>\n",
       "      <td>True</td>\n",
       "      <td>2017-01-25 14:49:39.148020</td>\n",
       "      <td>lollipop</td>\n",
       "    </tr>\n",
       "    <tr>\n",
       "      <th>2</th>\n",
       "      <td>US</td>\n",
       "      <td>[[[122, 102, 56, 45, 66], [0, 3, 3, 29, 22]], ...</td>\n",
       "      <td>5570004864991232</td>\n",
       "      <td>True</td>\n",
       "      <td>2017-03-16 05:55:20.812240</td>\n",
       "      <td>bench</td>\n",
       "    </tr>\n",
       "    <tr>\n",
       "      <th>3</th>\n",
       "      <td>AU</td>\n",
       "      <td>[[[2, 1, 11, 101, 234, 250, 255], [70, 43, 16,...</td>\n",
       "      <td>5906426784382976</td>\n",
       "      <td>True</td>\n",
       "      <td>2017-03-10 05:48:45.775800</td>\n",
       "      <td>bench</td>\n",
       "    </tr>\n",
       "    <tr>\n",
       "      <th>4</th>\n",
       "      <td>US</td>\n",
       "      <td>[[[0, 11, 14, 14, 7, 8, 14, 155, 187, 205, 210...</td>\n",
       "      <td>6320925102309376</td>\n",
       "      <td>True</td>\n",
       "      <td>2017-03-29 20:51:33.924090</td>\n",
       "      <td>dresser</td>\n",
       "    </tr>\n",
       "    <tr>\n",
       "      <th>5</th>\n",
       "      <td>VN</td>\n",
       "      <td>[[[19, 15, 16, 23, 72, 138, 178, 182, 181, 189...</td>\n",
       "      <td>5963662059634688</td>\n",
       "      <td>True</td>\n",
       "      <td>2017-01-31 05:36:18.230000</td>\n",
       "      <td>dresser</td>\n",
       "    </tr>\n",
       "    <tr>\n",
       "      <th>6</th>\n",
       "      <td>AU</td>\n",
       "      <td>[[[96, 84, 84, 101, 112, 115, 110, 103, 91, 86...</td>\n",
       "      <td>5212908118081536</td>\n",
       "      <td>True</td>\n",
       "      <td>2017-01-18 03:19:25.996870</td>\n",
       "      <td>scorpion</td>\n",
       "    </tr>\n",
       "    <tr>\n",
       "      <th>7</th>\n",
       "      <td>US</td>\n",
       "      <td>[[[34, 19], [186, 223]], [[44, 47, 47, 41], [1...</td>\n",
       "      <td>6378657540997120</td>\n",
       "      <td>True</td>\n",
       "      <td>2017-03-30 20:32:16.099910</td>\n",
       "      <td>scorpion</td>\n",
       "    </tr>\n",
       "    <tr>\n",
       "      <th>8</th>\n",
       "      <td>BE</td>\n",
       "      <td>[[[20, 12, 0, 1, 18, 24, 26, 25, 19], [134, 13...</td>\n",
       "      <td>4702418350637056</td>\n",
       "      <td>True</td>\n",
       "      <td>2017-03-26 21:51:40.742850</td>\n",
       "      <td>tractor</td>\n",
       "    </tr>\n",
       "    <tr>\n",
       "      <th>9</th>\n",
       "      <td>DE</td>\n",
       "      <td>[[[125, 123, 107, 83, 54, 28, 6, 0, 2, 17, 42,...</td>\n",
       "      <td>4543922971869184</td>\n",
       "      <td>True</td>\n",
       "      <td>2017-01-26 19:32:14.264860</td>\n",
       "      <td>tractor</td>\n",
       "    </tr>\n",
       "    <tr>\n",
       "      <th>10</th>\n",
       "      <td>US</td>\n",
       "      <td>[[[14, 43, 75, 89, 115, 233, 249, 254, 253, 24...</td>\n",
       "      <td>5168642721316864</td>\n",
       "      <td>True</td>\n",
       "      <td>2017-03-16 17:42:22.664570</td>\n",
       "      <td>peanut</td>\n",
       "    </tr>\n",
       "    <tr>\n",
       "      <th>11</th>\n",
       "      <td>PH</td>\n",
       "      <td>[[[98, 113, 110, 89, 50, 24, 11, 3, 0, 8, 25, ...</td>\n",
       "      <td>4880570372849664</td>\n",
       "      <td>True</td>\n",
       "      <td>2017-03-27 17:20:21.642150</td>\n",
       "      <td>peanut</td>\n",
       "    </tr>\n",
       "  </tbody>\n",
       "</table>\n",
       "</div>"
      ],
      "text/plain": [
       "   countrycode                                            drawing  \\\n",
       "0           MD  [[[41, 41, 49, 41, 42], [76, 110, 157, 201, 25...   \n",
       "1           FI  [[[61, 65, 67], [98, 106, 255]], [[72, 66, 56,...   \n",
       "2           US  [[[122, 102, 56, 45, 66], [0, 3, 3, 29, 22]], ...   \n",
       "3           AU  [[[2, 1, 11, 101, 234, 250, 255], [70, 43, 16,...   \n",
       "4           US  [[[0, 11, 14, 14, 7, 8, 14, 155, 187, 205, 210...   \n",
       "5           VN  [[[19, 15, 16, 23, 72, 138, 178, 182, 181, 189...   \n",
       "6           AU  [[[96, 84, 84, 101, 112, 115, 110, 103, 91, 86...   \n",
       "7           US  [[[34, 19], [186, 223]], [[44, 47, 47, 41], [1...   \n",
       "8           BE  [[[20, 12, 0, 1, 18, 24, 26, 25, 19], [134, 13...   \n",
       "9           DE  [[[125, 123, 107, 83, 54, 28, 6, 0, 2, 17, 42,...   \n",
       "10          US  [[[14, 43, 75, 89, 115, 233, 249, 254, 253, 24...   \n",
       "11          PH  [[[98, 113, 110, 89, 50, 24, 11, 3, 0, 8, 25, ...   \n",
       "\n",
       "              key_id recognized                   timestamp      word  \n",
       "0   5042528606748672       True  2017-03-11 21:58:33.282340  lollipop  \n",
       "1   5232288554024960       True  2017-01-25 14:49:39.148020  lollipop  \n",
       "2   5570004864991232       True  2017-03-16 05:55:20.812240     bench  \n",
       "3   5906426784382976       True  2017-03-10 05:48:45.775800     bench  \n",
       "4   6320925102309376       True  2017-03-29 20:51:33.924090   dresser  \n",
       "5   5963662059634688       True  2017-01-31 05:36:18.230000   dresser  \n",
       "6   5212908118081536       True  2017-01-18 03:19:25.996870  scorpion  \n",
       "7   6378657540997120       True  2017-03-30 20:32:16.099910  scorpion  \n",
       "8   4702418350637056       True  2017-03-26 21:51:40.742850   tractor  \n",
       "9   4543922971869184       True  2017-01-26 19:32:14.264860   tractor  \n",
       "10  5168642721316864       True  2017-03-16 17:42:22.664570    peanut  \n",
       "11  4880570372849664       True  2017-03-27 17:20:21.642150    peanut  "
      ]
     },
     "execution_count": 3,
     "metadata": {},
     "output_type": "execute_result"
    }
   ],
   "source": [
    "fnames = glob('./../train_simplified/*.csv')\n",
    "cnames = ['countrycode', 'drawing', 'key_id', 'recognized', 'timestamp', 'word']\n",
    "drawlist = []\n",
    "for f in fnames[0:6]:\n",
    "    first = pd.read_csv(f, nrows=10) # make sure we get a recognized drawing\n",
    "    first = first[first.recognized==True].head(2)\n",
    "    drawlist.append(first)\n",
    "draw_df = pd.DataFrame(np.concatenate(drawlist), columns=cnames)\n",
    "draw_df"
   ]
  },
  {
   "cell_type": "markdown",
   "metadata": {
    "_uuid": "60f35cc05283cc4f4871cec37bc873f5c9706042"
   },
   "source": [
    "And here are some nice sketches..."
   ]
  },
  {
   "cell_type": "code",
   "execution_count": 4,
   "metadata": {
    "_kg_hide-input": true,
    "_uuid": "2be57621533d0e0aa75108febde01261d2444c37"
   },
   "outputs": [],
   "source": [
    "evens = range(0,11,2)\n",
    "odds = range(1,12, 2)\n",
    "df1 = draw_df[draw_df.index.isin(evens)]\n",
    "df2 = draw_df[draw_df.index.isin(odds)]\n",
    "\n",
    "example1s = [ast.literal_eval(pts) for pts in df1.drawing.values]\n",
    "example2s = [ast.literal_eval(pts) for pts in df2.drawing.values]"
   ]
  },
  {
   "cell_type": "code",
   "execution_count": 5,
   "metadata": {
    "_kg_hide-input": true,
    "_uuid": "0a1aaca9129ad3748e597993c90ab65c5fdefd5b",
    "scrolled": false
   },
   "outputs": [
    {
     "name": "stderr",
     "output_type": "stream",
     "text": [
      "/home/abelleulseged/.local/lib/python3.6/site-packages/matplotlib/figure.py:98: MatplotlibDeprecationWarning: \n",
      "Adding an axes using the same arguments as a previous axes currently reuses the earlier instance.  In a future version, a new instance will always be created and returned.  Meanwhile, this warning can be suppressed, and the future behavior ensured, by passing a unique label to each axes instance.\n",
      "  \"Adding an axes using the same arguments as a previous axes \"\n"
     ]
    },
    {
     "data": {
      "image/png": "[encoded data removed]",
      "text/plain": [
       "<Figure size 432x216 with 2 Axes>"
      ]
     },
     "metadata": {
      "needs_background": "light"
     },
     "output_type": "display_data"
    },
    {
     "data": {
      "image/png": "[encoded data removed]",
      "text/plain": [
       "<Figure size 432x216 with 2 Axes>"
      ]
     },
     "metadata": {
      "needs_background": "light"
     },
     "output_type": "display_data"
    },
    {
     "data": {
      "image/png": "[encoded data removed]",
      "text/plain": [
       "<Figure size 432x216 with 2 Axes>"
      ]
     },
     "metadata": {
      "needs_background": "light"
     },
     "output_type": "display_data"
    },
    {
     "data": {
      "image/png": "[encoded data removed]",
      "text/plain": [
       "<Figure size 432x216 with 2 Axes>"
      ]
     },
     "metadata": {
      "needs_background": "light"
     },
     "output_type": "display_data"
    },
    {
     "data": {
      "image/png": "[encoded data removed]",
      "text/plain": [
       "<Figure size 432x216 with 2 Axes>"
      ]
     },
     "metadata": {
      "needs_background": "light"
     },
     "output_type": "display_data"
    },
    {
     "data": {
      "image/png": "[encoded data removed]",
      "text/plain": [
       "<Figure size 432x216 with 2 Axes>"
      ]
     },
     "metadata": {
      "needs_background": "light"
     },
     "output_type": "display_data"
    }
   ],
   "source": [
    "labels = df2.word.tolist()\n",
    "for i, example in enumerate(example1s):\n",
    "    plt.figure(figsize=(6,3))\n",
    "    \n",
    "    for x,y in example:\n",
    "        plt.subplot(1,2,1)\n",
    "        plt.plot(x, y, marker='.')\n",
    "        plt.axis('off')\n",
    "\n",
    "    for x,y, in example2s[i]:\n",
    "        plt.subplot(1,2,2)\n",
    "        plt.plot(x, y, marker='.')\n",
    "        plt.axis('off')\n",
    "        label = labels[i]\n",
    "        plt.title(label, fontsize=10)\n",
    "\n",
    "    plt.show()  "
   ]
  },
  {
   "cell_type": "markdown",
   "metadata": {
    "_uuid": "cf8bc6e13cba236c6632cff33d9729d6eff728f4"
   },
   "source": [
    "## The Quick, Draw Data Repository\n",
    "There is a direct data source outside of Kaggle that seems pretty useful. The main link is a [GitHub Repository](https://github.com/googlecreativelab/quickdraw-dataset) that leads to the data in several formats, including Numpy bitmap files. Each file in the dataset covers a specific type of sketch and is in the shape of a long 1d array. Here are a few.\n",
    "\n",
    "Update: The test set for this project doesn't have premade files in the numpy bitmap format. When you apply your model to test arrays converted from matplotlib, there is a loss due to the different conversion process. The best results for an image-based model are had by using the same processing for train and test (no surprise there I guess). So I'd say these are good for exploration but consider the other files for better results."
   ]
  },
  {
   "cell_type": "code",
   "execution_count": 6,
   "metadata": {
    "_kg_hide-input": false,
    "_uuid": "73e317f188154d2b908f75ee8aeafc06da86db42",
    "scrolled": true
   },
   "outputs": [],
   "source": [
    "# # commented out to save memory\n",
    "# import urllib\n",
    "\n",
    "# LABELS = np.array(['baseball', 'bowtie', 'clock', 'hand', 'hat'])\n",
    "# for b in LABELS:\n",
    "#     url = \"https://storage.googleapis.com/quickdraw_dataset/full/numpy_bitmap/{}.npy\".format(b)\n",
    "#     urllib.request.urlretrieve(url, \"{}.npy\".format(b))\n",
    "#     nb = np.load(\"{}.npy\".format(b))\n",
    "#     print(\"\\n Class '{0}' has {1} examples of {2}x{2} images\".format(b, nb.shape[0], int(nb.shape[1]**0.5)))"
   ]
  },
  {
   "cell_type": "markdown",
   "metadata": {
    "_uuid": "8b9f5b85771add0d7672f7611a62e4668a28453c"
   },
   "source": [
    "## Convolutional Neural Network (CNN)\n",
    "Next we'll build an image classifier. There are some resources in the repository I mentioned earlier showing how people have used the data. One of those resources is a CNN just like what you see here. \n",
    "\n",
    "The biggest usage of resources seems to be converting the drawings to images. You can stick with a stroke-based model or go down the conversion path. Going that way requires watching data usage and managing space limits - deep learning on Kaggle can be like building a ship in a bottle:) \n",
    "\n",
    "UPDATE: I'll be experimenting with a separate kernel to use a fit_generator like in Beluga's kernel and others. This kernel has the most I could squeeze into memory with simple fit and predict."
   ]
  },
  {
   "cell_type": "code",
   "execution_count": 9,
   "metadata": {
    "_kg_hide-input": true,
    "_kg_hide-output": true,
    "_uuid": "adc697e3e58ef810c0576614ae95fa889bfb3345"
   },
   "outputs": [],
   "source": [
    "%reset -f "
   ]
  },
  {
   "cell_type": "code",
   "execution_count": 10,
   "metadata": {
    "_uuid": "779113b4b0ef5fbe50ddda59813b019b3b769b58"
   },
   "outputs": [],
   "source": [
    "#%% import\n",
    "import os\n",
    "from glob import glob\n",
    "import re\n",
    "import ast\n",
    "import numpy as np \n",
    "import pandas as pd\n",
    "from PIL import Image, ImageDraw \n",
    "from tqdm import tqdm\n",
    "from dask import bag\n",
    "\n",
    "import tensorflow as tf\n",
    "from tensorflow import keras\n",
    "from tensorflow.keras.models import Sequential\n",
    "from tensorflow.keras.layers import Dense, Dropout, Flatten\n",
    "from tensorflow.keras.layers import Conv2D, MaxPooling2D\n",
    "from tensorflow.keras.metrics import top_k_categorical_accuracy\n",
    "from tensorflow.keras.callbacks import ModelCheckpoint, ReduceLROnPlateau, EarlyStopping"
   ]
  },
  {
   "cell_type": "code",
   "execution_count": 14,
   "metadata": {
    "_uuid": "44e5965471a53f3ca6d87a1df8c0e1b2538cd34c"
   },
   "outputs": [],
   "source": [
    "#%% set label dictionary and params\n",
    "classfiles = os.listdir('./../train_simplified/')\n",
    "numstonames = {i: v[:-4].replace(\" \", \"_\") for i, v in enumerate(classfiles)} #adds underscores\n",
    "\n",
    "num_classes = 340    #340 max \n",
    "imheight, imwidth = 32, 32  \n",
    "ims_per_class = 2000  #max?"
   ]
  },
  {
   "cell_type": "code",
   "execution_count": 16,
   "metadata": {
    "_kg_hide-output": false,
    "_uuid": "1ce1101eea3b2a0787c1dbe6b675e2a481802f67",
    "scrolled": true
   },
   "outputs": [
    {
     "name": "stderr",
     "output_type": "stream",
     "text": [
      "100%|██████████| 340/340 [07:46<00:00,  1.75s/it]\n"
     ]
    }
   ],
   "source": [
    "# faster conversion function\n",
    "def draw_it(strokes):\n",
    "    image = Image.new(\"P\", (256,256), color=255)\n",
    "    image_draw = ImageDraw.Draw(image)\n",
    "    for stroke in ast.literal_eval(strokes):\n",
    "        for i in range(len(stroke[0])-1):\n",
    "            image_draw.line([stroke[0][i], \n",
    "                             stroke[1][i],\n",
    "                             stroke[0][i+1], \n",
    "                             stroke[1][i+1]],\n",
    "                            fill=0, width=5)\n",
    "    image = image.resize((imheight, imwidth))\n",
    "    return np.array(image)/255.\n",
    "\n",
    "#%% get train arrays\n",
    "train_grand = []\n",
    "class_paths = glob('./../train_simplified/*.csv')\n",
    "for i,c in enumerate(tqdm(class_paths[0: num_classes])):\n",
    "    train = pd.read_csv(c, usecols=['drawing', 'recognized'], nrows=ims_per_class*5//4)\n",
    "    train = train[train.recognized == True].head(ims_per_class)\n",
    "    imagebag = bag.from_sequence(train.drawing.values).map(draw_it) \n",
    "    trainarray = np.array(imagebag.compute())  # PARALLELIZE\n",
    "    trainarray = np.reshape(trainarray, (ims_per_class, -1))    \n",
    "    labelarray = np.full((train.shape[0], 1), i)\n",
    "    trainarray = np.concatenate((labelarray, trainarray), axis=1)\n",
    "    train_grand.append(trainarray)\n",
    "    \n",
    "train_grand = np.array([train_grand.pop() for i in np.arange(num_classes)]) #less memory than np.concatenate\n",
    "train_grand = train_grand.reshape((-1, (imheight*imwidth+1)))\n",
    "\n",
    "del trainarray\n",
    "del train"
   ]
  },
  {
   "cell_type": "code",
   "execution_count": 17,
   "metadata": {
    "_kg_hide-input": false,
    "_uuid": "6788c33f4a9dd552d473e3667387491c40dbfe4b",
    "scrolled": true
   },
   "outputs": [
    {
     "name": "stdout",
     "output_type": "stream",
     "text": [
      "(612000, 340) \n",
      " (612000, 32, 32, 1) \n",
      " (68000, 340) \n",
      " (68000, 32, 32, 1)\n"
     ]
    }
   ],
   "source": [
    "# memory-friendly alternative to train_test_split?\n",
    "valfrac = 0.1\n",
    "cutpt = int(valfrac * train_grand.shape[0])\n",
    "\n",
    "np.random.shuffle(train_grand)\n",
    "y_train, X_train = train_grand[cutpt: , 0], train_grand[cutpt: , 1:]\n",
    "y_val, X_val = train_grand[0:cutpt, 0], train_grand[0:cutpt, 1:] #validation set is recognized==True\n",
    "\n",
    "del train_grand\n",
    "\n",
    "y_train = keras.utils.to_categorical(y_train, num_classes)\n",
    "X_train = X_train.reshape(X_train.shape[0], imheight, imwidth, 1)\n",
    "y_val = keras.utils.to_categorical(y_val, num_classes)\n",
    "X_val = X_val.reshape(X_val.shape[0], imheight, imwidth, 1)\n",
    "\n",
    "print(y_train.shape, \"\\n\",\n",
    "      X_train.shape, \"\\n\",\n",
    "      y_val.shape, \"\\n\",\n",
    "      X_val.shape)"
   ]
  },
  {
   "cell_type": "markdown",
   "metadata": {
    "_uuid": "24ef673ac1b339a6449a2e20ecf946b40dbc0ca3"
   },
   "source": [
    "Here's the architecture for the CNN. It's fairly simple compared to what else you can do."
   ]
  },
  {
   "cell_type": "code",
   "execution_count": 18,
   "metadata": {
    "_uuid": "002b62eec9f0b5c139c4c08f82476433ccc11026"
   },
   "outputs": [
    {
     "name": "stdout",
     "output_type": "stream",
     "text": [
      "_________________________________________________________________\n",
      "Layer (type)                 Output Shape              Param #   \n",
      "=================================================================\n",
      "conv2d (Conv2D)              (None, 32, 32, 32)        320       \n",
      "_________________________________________________________________\n",
      "max_pooling2d (MaxPooling2D) (None, 16, 16, 32)        0         \n",
      "_________________________________________________________________\n",
      "conv2d_1 (Conv2D)            (None, 16, 16, 64)        18496     \n",
      "_________________________________________________________________\n",
      "max_pooling2d_1 (MaxPooling2 (None, 8, 8, 64)          0         \n",
      "_________________________________________________________________\n",
      "dropout (Dropout)            (None, 8, 8, 64)          0         \n",
      "_________________________________________________________________\n",
      "flatten (Flatten)            (None, 4096)              0         \n",
      "_________________________________________________________________\n",
      "dense (Dense)                (None, 680)               2785960   \n",
      "_________________________________________________________________\n",
      "dropout_1 (Dropout)          (None, 680)               0         \n",
      "_________________________________________________________________\n",
      "dense_1 (Dense)              (None, 340)               231540    \n",
      "=================================================================\n",
      "Total params: 3,036,316\n",
      "Trainable params: 3,036,316\n",
      "Non-trainable params: 0\n",
      "_________________________________________________________________\n"
     ]
    }
   ],
   "source": [
    "model = Sequential()\n",
    "model.add(Conv2D(32, kernel_size=(3, 3), padding='same', activation='relu', input_shape=(imheight, imwidth, 1)))\n",
    "model.add(MaxPooling2D(pool_size=(2, 2)))\n",
    "model.add(Conv2D(64, kernel_size=(3, 3), padding='same', activation='relu'))\n",
    "model.add(MaxPooling2D(pool_size=(2, 2)))\n",
    "model.add(Dropout(0.2))\n",
    "model.add(Flatten())\n",
    "model.add(Dense(680, activation='relu'))\n",
    "model.add(Dropout(0.5))\n",
    "model.add(Dense(num_classes, activation='softmax'))\n",
    "model.summary()"
   ]
  },
  {
   "cell_type": "code",
   "execution_count": 19,
   "metadata": {
    "_kg_hide-output": true,
    "_uuid": "6464e84f6f0c7303110db9e26c74a5c90a0a9ab9",
    "scrolled": false
   },
   "outputs": [
    {
     "name": "stdout",
     "output_type": "stream",
     "text": [
      "Train on 612000 samples, validate on 68000 samples\n",
      "Epoch 1/22\n",
      "612000/612000 [==============================] - 46s 75us/step - loss: 4.6675 - acc: 0.0943 - top_3_accuracy: 0.1866 - val_loss: 3.4237 - val_acc: 0.2705 - val_top_3_accuracy: 0.4467\n",
      "Epoch 2/22\n",
      "612000/612000 [==============================] - 41s 67us/step - loss: 3.3245 - acc: 0.2632 - top_3_accuracy: 0.4453 - val_loss: 2.6889 - val_acc: 0.3871 - val_top_3_accuracy: 0.5887\n",
      "Epoch 3/22\n",
      "612000/612000 [==============================] - 41s 67us/step - loss: 2.9180 - acc: 0.3316 - top_3_accuracy: 0.5291 - val_loss: 2.4375 - val_acc: 0.4298 - val_top_3_accuracy: 0.6371\n",
      "Epoch 4/22\n",
      "612000/612000 [==============================] - 41s 67us/step - loss: 2.7415 - acc: 0.3616 - top_3_accuracy: 0.5655 - val_loss: 2.2988 - val_acc: 0.4566 - val_top_3_accuracy: 0.6657\n",
      "Epoch 5/22\n",
      "612000/612000 [==============================] - 41s 67us/step - loss: 2.6378 - acc: 0.3798 - top_3_accuracy: 0.5870 - val_loss: 2.2232 - val_acc: 0.4727 - val_top_3_accuracy: 0.6811\n",
      "Epoch 6/22\n",
      "612000/612000 [==============================] - 41s 67us/step - loss: 2.5626 - acc: 0.3935 - top_3_accuracy: 0.6022 - val_loss: 2.1473 - val_acc: 0.4853 - val_top_3_accuracy: 0.6934\n",
      "Epoch 7/22\n",
      "612000/612000 [==============================] - 41s 66us/step - loss: 2.5039 - acc: 0.4042 - top_3_accuracy: 0.6142 - val_loss: 2.1047 - val_acc: 0.4911 - val_top_3_accuracy: 0.7008\n",
      "Epoch 8/22\n",
      "612000/612000 [==============================] - 41s 66us/step - loss: 2.4548 - acc: 0.4128 - top_3_accuracy: 0.6231 - val_loss: 2.0638 - val_acc: 0.5014 - val_top_3_accuracy: 0.7107\n",
      "Epoch 9/22\n",
      "612000/612000 [==============================] - 41s 67us/step - loss: 2.4127 - acc: 0.4211 - top_3_accuracy: 0.6320 - val_loss: 2.0310 - val_acc: 0.5062 - val_top_3_accuracy: 0.7152\n",
      "Epoch 10/22\n",
      "612000/612000 [==============================] - 41s 67us/step - loss: 2.3771 - acc: 0.4274 - top_3_accuracy: 0.6389 - val_loss: 1.9916 - val_acc: 0.5139 - val_top_3_accuracy: 0.7218\n",
      "Epoch 11/22\n",
      "612000/612000 [==============================] - 41s 67us/step - loss: 2.3404 - acc: 0.4339 - top_3_accuracy: 0.6462 - val_loss: 1.9774 - val_acc: 0.5169 - val_top_3_accuracy: 0.7256\n",
      "Epoch 12/22\n",
      "612000/612000 [==============================] - 41s 67us/step - loss: 2.3091 - acc: 0.4397 - top_3_accuracy: 0.6521 - val_loss: 1.9476 - val_acc: 0.5215 - val_top_3_accuracy: 0.7310\n",
      "Epoch 13/22\n",
      "612000/612000 [==============================] - 41s 67us/step - loss: 2.2788 - acc: 0.4450 - top_3_accuracy: 0.6580 - val_loss: 1.9314 - val_acc: 0.5266 - val_top_3_accuracy: 0.7340\n",
      "Epoch 14/22\n",
      "612000/612000 [==============================] - 41s 66us/step - loss: 2.2553 - acc: 0.4497 - top_3_accuracy: 0.6627 - val_loss: 1.9038 - val_acc: 0.5307 - val_top_3_accuracy: 0.7383\n",
      "Epoch 15/22\n",
      "612000/612000 [==============================] - 41s 66us/step - loss: 2.2267 - acc: 0.4550 - top_3_accuracy: 0.6683 - val_loss: 1.8865 - val_acc: 0.5353 - val_top_3_accuracy: 0.7430\n",
      "Epoch 16/22\n",
      "612000/612000 [==============================] - 41s 67us/step - loss: 2.2061 - acc: 0.4589 - top_3_accuracy: 0.6722 - val_loss: 1.8758 - val_acc: 0.5370 - val_top_3_accuracy: 0.7444\n",
      "Epoch 17/22\n",
      "612000/612000 [==============================] - 41s 67us/step - loss: 2.1848 - acc: 0.4633 - top_3_accuracy: 0.6759 - val_loss: 1.8541 - val_acc: 0.5404 - val_top_3_accuracy: 0.7461\n",
      "Epoch 18/22\n",
      "612000/612000 [==============================] - 41s 67us/step - loss: 2.1645 - acc: 0.4673 - top_3_accuracy: 0.6796 - val_loss: 1.8435 - val_acc: 0.5414 - val_top_3_accuracy: 0.7497\n",
      "Epoch 19/22\n",
      "612000/612000 [==============================] - 41s 67us/step - loss: 2.1446 - acc: 0.4700 - top_3_accuracy: 0.6840 - val_loss: 1.8233 - val_acc: 0.5454 - val_top_3_accuracy: 0.7513\n",
      "Epoch 20/22\n",
      "612000/612000 [==============================] - 41s 67us/step - loss: 2.1271 - acc: 0.4727 - top_3_accuracy: 0.6868 - val_loss: 1.8157 - val_acc: 0.5471 - val_top_3_accuracy: 0.7534\n",
      "Epoch 21/22\n",
      "612000/612000 [==============================] - 41s 67us/step - loss: 2.1070 - acc: 0.4767 - top_3_accuracy: 0.6910 - val_loss: 1.8069 - val_acc: 0.5494 - val_top_3_accuracy: 0.7551\n",
      "Epoch 22/22\n",
      "612000/612000 [==============================] - 41s 67us/step - loss: 2.0889 - acc: 0.4808 - top_3_accuracy: 0.6948 - val_loss: 1.8005 - val_acc: 0.5512 - val_top_3_accuracy: 0.7571\n"
     ]
    },
    {
     "data": {
      "text/plain": [
       "<tensorflow.python.keras.callbacks.History at 0x7fd334940ba8>"
      ]
     },
     "execution_count": 19,
     "metadata": {},
     "output_type": "execute_result"
    }
   ],
   "source": [
    "def top_3_accuracy(x,y): \n",
    "    t3 = top_k_categorical_accuracy(x,y, 3)\n",
    "    return t3\n",
    "\n",
    "reduceLROnPlat = ReduceLROnPlateau(monitor='val_loss', factor=0.5, patience=3, \n",
    "                                   verbose=1, mode='auto', min_delta=0.005, cooldown=5, min_lr=0.0001)\n",
    "earlystop = EarlyStopping(monitor='val_top_3_accuracy', mode='max', patience=5) \n",
    "callbacks = [reduceLROnPlat, earlystop]\n",
    "\n",
    "model.compile(loss='categorical_crossentropy',\n",
    "              optimizer='adam',\n",
    "              metrics=['accuracy', top_3_accuracy])\n",
    "\n",
    "model.fit(x=X_train, y=y_train,\n",
    "          batch_size = 4096,\n",
    "          epochs = 22,\n",
    "          validation_data = (X_val, y_val),\n",
    "          callbacks = callbacks,\n",
    "          verbose = 1)"
   ]
  },
  {
   "cell_type": "markdown",
   "metadata": {
    "_uuid": "4125359749cd237de207eca0ab62074431df8323"
   },
   "source": [
    "## Predicting on the Test data\n",
    "The CNN does OK on the validation data, even with a basic model and limited training data. Let's generate predictions on the test set and submit."
   ]
  },
  {
   "cell_type": "code",
   "execution_count": 20,
   "metadata": {
    "_kg_hide-input": false,
    "_kg_hide-output": true,
    "_uuid": "2828f46cdf053261a1435e6eca1a4aea55195273"
   },
   "outputs": [
    {
     "name": "stderr",
     "output_type": "stream",
     "text": [
      "100%|██████████| 55/55 [01:38<00:00,  1.77s/it]\n"
     ]
    }
   ],
   "source": [
    "#%% get test set\n",
    "ttvlist = []\n",
    "reader = pd.read_csv('./../test_simplified.csv', index_col=['key_id'],\n",
    "    chunksize=2048)\n",
    "for chunk in tqdm(reader, total=55):\n",
    "    imagebag = bag.from_sequence(chunk.drawing.values).map(draw_it)\n",
    "    testarray = np.array(imagebag.compute())\n",
    "    testarray = np.reshape(testarray, (testarray.shape[0], imheight, imwidth, 1))\n",
    "    testpreds = model.predict(testarray, verbose=0)\n",
    "    ttvs = np.argsort(-testpreds)[:, 0:3]  # top 3\n",
    "    ttvlist.append(ttvs)\n",
    "    \n",
    "ttvarray = np.concatenate(ttvlist)"
   ]
  },
  {
   "cell_type": "code",
   "execution_count": 21,
   "metadata": {
    "_kg_hide-input": false,
    "_kg_hide-output": true,
    "_uuid": "5c650c6f9a0ec6f99042e6132ffc4a25b2b2f0b3"
   },
   "outputs": [
    {
     "data": {
      "text/html": [
       "<div>\n",
       "<style scoped>\n",
       "    .dataframe tbody tr th:only-of-type {\n",
       "        vertical-align: middle;\n",
       "    }\n",
       "\n",
       "    .dataframe tbody tr th {\n",
       "        vertical-align: top;\n",
       "    }\n",
       "\n",
       "    .dataframe thead th {\n",
       "        text-align: right;\n",
       "    }\n",
       "</style>\n",
       "<table border=\"1\" class=\"dataframe\">\n",
       "  <thead>\n",
       "    <tr style=\"text-align: right;\">\n",
       "      <th></th>\n",
       "      <th>word</th>\n",
       "    </tr>\n",
       "    <tr>\n",
       "      <th>key_id</th>\n",
       "      <th></th>\n",
       "    </tr>\n",
       "  </thead>\n",
       "  <tbody>\n",
       "    <tr>\n",
       "      <th>9000003627287624</th>\n",
       "      <td>radio stereo tractor</td>\n",
       "    </tr>\n",
       "    <tr>\n",
       "      <th>9000010688666847</th>\n",
       "      <td>sandwich hockey_puck hamburger</td>\n",
       "    </tr>\n",
       "    <tr>\n",
       "      <th>9000023642890129</th>\n",
       "      <td>The_Great_Wall_of_China castle bridge</td>\n",
       "    </tr>\n",
       "    <tr>\n",
       "      <th>9000038588854897</th>\n",
       "      <td>mountain triangle tent</td>\n",
       "    </tr>\n",
       "    <tr>\n",
       "      <th>9000052667981386</th>\n",
       "      <td>campfire fireplace The_Eiffel_Tower</td>\n",
       "    </tr>\n",
       "  </tbody>\n",
       "</table>\n",
       "</div>"
      ],
      "text/plain": [
       "                                                   word\n",
       "key_id                                                 \n",
       "9000003627287624                   radio stereo tractor\n",
       "9000010688666847         sandwich hockey_puck hamburger\n",
       "9000023642890129  The_Great_Wall_of_China castle bridge\n",
       "9000038588854897                 mountain triangle tent\n",
       "9000052667981386    campfire fireplace The_Eiffel_Tower"
      ]
     },
     "execution_count": 21,
     "metadata": {},
     "output_type": "execute_result"
    }
   ],
   "source": [
    "preds_df = pd.DataFrame({'first': ttvarray[:,0], 'second': ttvarray[:,1], 'third': ttvarray[:,2]})\n",
    "preds_df = preds_df.replace(numstonames)\n",
    "preds_df['words'] = preds_df['first'] + \" \" + preds_df['second'] + \" \" + preds_df['third']\n",
    "\n",
    "sub = pd.read_csv('./../sample_submission.csv', index_col=['key_id'])\n",
    "sub['word'] = preds_df.words.values\n",
    "sub.to_csv('subcnn_baseline.csv')\n",
    "sub.head()"
   ]
  },
  {
   "cell_type": "code",
   "execution_count": null,
   "metadata": {
    "_uuid": "68bc0f3273c80e2ab7abb10c29c4741d19fb941a"
   },
   "outputs": [],
   "source": []
  }
 ],
 "metadata": {
  "kernelspec": {
   "display_name": "Python (cs152)",
   "language": "python",
   "name": "cs152"
  },
  "language_info": {
   "codemirror_mode": {
    "name": "ipython",
    "version": 3
   },
   "file_extension": ".py",
   "mimetype": "text/x-python",
   "name": "python",
   "nbconvert_exporter": "python",
   "pygments_lexer": "ipython3",
   "version": "3.6.7"
  }
 },
 "nbformat": 4,
 "nbformat_minor": 1
}
