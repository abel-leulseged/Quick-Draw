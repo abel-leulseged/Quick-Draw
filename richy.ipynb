{
 "cells": [
  {
   "cell_type": "code",
   "execution_count": null,
   "metadata": {},
   "outputs": [],
   "source": [
    "%reload_ext autoreload\n",
    "%autoreload 2\n",
    "%matplotlib inline"
   ]
  },
  {
   "cell_type": "markdown",
   "metadata": {},
   "source": [
    "Imports for drawing images"
   ]
  },
  {
   "cell_type": "code",
   "execution_count": null,
   "metadata": {},
   "outputs": [],
   "source": [
    "import pandas as pd\n",
    "import cv2\n",
    "from ast import literal_eval\n",
    "import os\n",
    "from os.path import isfile, join"
   ]
  },
  {
   "cell_type": "markdown",
   "metadata": {},
   "source": [
    "Imports for CNN"
   ]
  },
  {
   "cell_type": "code",
   "execution_count": null,
   "metadata": {},
   "outputs": [],
   "source": [
    "from fastai.imports import *\n",
    "from fastai.transforms import *\n",
    "from fastai.conv_learner import *\n",
    "from fastai.model import *\n",
    "from fastai.dataset import *\n",
    "from fastai.sgdr import *\n",
    "from fastai.plots import *\n",
    "import numpy as np\n",
    "import shutil"
   ]
  },
  {
   "cell_type": "markdown",
   "metadata": {},
   "source": [
    "# Create Image Data From Raw CSV Data"
   ]
  },
  {
   "cell_type": "code",
   "execution_count": null,
   "metadata": {},
   "outputs": [],
   "source": [
    "BASE_SIZE = 256\n",
    "size = 80"
   ]
  },
  {
   "cell_type": "code",
   "execution_count": null,
   "metadata": {},
   "outputs": [],
   "source": [
    "def draw_cv2(raw_strokes, size=256, lw=6):\n",
    "    \"\"\"\n",
    "    Takes in one array of the vectors from drawing and returns an image array\n",
    "    \"\"\"\n",
    "    img = np.zeros((BASE_SIZE, BASE_SIZE), np.uint8)\n",
    "    for stroke in raw_strokes:\n",
    "        for i in range(len(stroke[0]) - 1):\n",
    "            _ = cv2.line(img, (stroke[0][i], stroke[1][i]), (stroke[0][i + 1], stroke[1][i + 1]), 255, lw)\n",
    "    if size != BASE_SIZE:\n",
    "        return cv2.resize(img, (size, size))\n",
    "    else:\n",
    "        return img"
   ]
  },
  {
   "cell_type": "code",
   "execution_count": null,
   "metadata": {},
   "outputs": [],
   "source": [
    "def create_images(filename):\n",
    "    \"\"\"\n",
    "    Takes the filename of one category and creates train and valid folders with all images for that category\n",
    "    \"\"\"\n",
    "    folder = filename.split('.')[0]\n",
    "    if not os.path.isdir(\"./train/\" + folder):\n",
    "        os.mkdir(\"train/\" + folder)\n",
    "    if not os.path.isdir(\"./valid/\" + folder):\n",
    "        os.mkdir(\"valid/\" + folder)\n",
    "    df = pd.read_csv(filename)\n",
    "    df['drawing'] = df['drawing'].apply(literal_eval)\n",
    "    for i, raw_strokes in enumerate(df.drawing.values):\n",
    "        if i % 5 == 0:\n",
    "            cv2.imwrite(f'valid/{folder}/{i}.jpg', draw_cv2(raw_strokes, size=size))\n",
    "        else:\n",
    "            cv2.imwrite(f'train/{folder}/{i}.jpg', draw_cv2(raw_strokes, size=size))"
   ]
  },
  {
   "cell_type": "code",
   "execution_count": null,
   "metadata": {},
   "outputs": [],
   "source": [
    "def create_all_images():\n",
    "    \"\"\"\n",
    "    Creates images for all categories\n",
    "    \"\"\"\n",
    "    if not os.path.isdir(\"./train\"):\n",
    "        os.mkdir(\"train\")\n",
    "    if not os.path.isdir(\"./valid\"):\n",
    "        os.mkdir(\"valid\")\n",
    "    training_set = './../train_simplified/'\n",
    "    train_files = [join(training_set, f) for f in os.listdir(training_set) if isfile(join(training_set, f))]\n",
    "    for filename in train_files:\n",
    "        filename = filename.split(\"/\")[-1]\n",
    "        create_images(filename)"
   ]
  },
  {
   "cell_type": "code",
   "execution_count": null,
   "metadata": {},
   "outputs": [],
   "source": [
    "create_all_images()"
   ]
  },
  {
   "cell_type": "markdown",
   "metadata": {},
   "source": [
    "# Create and Run CNN on Image Data"
   ]
  },
  {
   "cell_type": "code",
   "execution_count": null,
   "metadata": {},
   "outputs": [],
   "source": [
    "arch=resnet50\n"
   ]
  }
 ],
 "metadata": {
  "kernelspec": {
   "display_name": "Python 3",
   "language": "python",
   "name": "python3"
  },
  "language_info": {
   "codemirror_mode": {
    "name": "ipython",
    "version": 2
   },
   "file_extension": ".py",
   "mimetype": "text/x-python",
   "name": "python",
   "nbconvert_exporter": "python",
   "pygments_lexer": "ipython2",
   "version": "2.7.14"
  }
 },
 "nbformat": 4,
 "nbformat_minor": 2
}
