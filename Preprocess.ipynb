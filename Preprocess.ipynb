{
 "cells": [
  {
   "cell_type": "code",
   "execution_count": 1,
   "metadata": {},
   "outputs": [],
   "source": [
    "import pandas as pd\n",
    "import numpy as np\n",
    "from ast import literal_eval\n",
    "import cv2\n",
    "from sklearn.utils import shuffle\n",
    "training_set = './../train_simplified/'\n",
    "from os import listdir\n",
    "from os.path import isfile, join\n",
    "train_files = [join(training_set, f) for f in listdir(training_set) if isfile(join(training_set, f))]"
   ]
  },
  {
   "cell_type": "code",
   "execution_count": 2,
   "metadata": {},
   "outputs": [],
   "source": [
    "def clean_drawing(inkarray):\n",
    "    inkarray = literal_eval(inkarray)\n",
    "    stroke_lengths = [len(stroke[0]) for stroke in inkarray]\n",
    "    total_points = sum(stroke_lengths)\n",
    "    np_ink = np.zeros((total_points, 3), dtype=np.float32)\n",
    "    current_t = 0\n",
    "    for stroke in inkarray:\n",
    "        for i in [0, 1]:\n",
    "            np_ink[current_t:(current_t + len(stroke[0])), i] = stroke[i]\n",
    "        current_t += len(stroke[0])\n",
    "        np_ink[current_t - 1, 2] = 1  # stroke_end\n",
    "    # Preprocessing.\n",
    "    # 1. Size normalization.\n",
    "    lower = np.min(np_ink[:, 0:2], axis=0)\n",
    "    upper = np.max(np_ink[:, 0:2], axis=0)\n",
    "    scale = upper - lower\n",
    "    scale[scale == 0] = 1\n",
    "    np_ink[:, 0:2] = (np_ink[:, 0:2] - lower) / scale\n",
    "    # 2. Compute deltas.\n",
    "    np_ink = np_ink[1:, 0:2] - np_ink[0:-1, 0:2]\n",
    "    return np_ink\n",
    "\n",
    "def load_and_clean(files):\n",
    "    dfs = []\n",
    "    for file in files:\n",
    "        df = pd.read_csv(file)\n",
    "        dfs += [df]\n",
    "    full_df = pd.concat(dfs)\n",
    "    full_df['drawing'] = full_df['drawing'].apply(literal_eval)\n",
    "    return full_df"
   ]
  },
  {
   "cell_type": "code",
   "execution_count": 3,
   "metadata": {},
   "outputs": [],
   "source": [
    "df = load_and_clean(train_files[:1])\n",
    "# randomly shuffle the rows"
   ]
  },
  {
   "cell_type": "code",
   "execution_count": 4,
   "metadata": {},
   "outputs": [
    {
     "data": {
      "text/html": [
       "<div>\n",
       "<style scoped>\n",
       "    .dataframe tbody tr th:only-of-type {\n",
       "        vertical-align: middle;\n",
       "    }\n",
       "\n",
       "    .dataframe tbody tr th {\n",
       "        vertical-align: top;\n",
       "    }\n",
       "\n",
       "    .dataframe thead th {\n",
       "        text-align: right;\n",
       "    }\n",
       "</style>\n",
       "<table border=\"1\" class=\"dataframe\">\n",
       "  <thead>\n",
       "    <tr style=\"text-align: right;\">\n",
       "      <th></th>\n",
       "      <th>countrycode</th>\n",
       "      <th>drawing</th>\n",
       "      <th>key_id</th>\n",
       "      <th>recognized</th>\n",
       "      <th>timestamp</th>\n",
       "      <th>word</th>\n",
       "    </tr>\n",
       "  </thead>\n",
       "  <tbody>\n",
       "    <tr>\n",
       "      <th>0</th>\n",
       "      <td>MD</td>\n",
       "      <td>[[[41, 41, 49, 41, 42], [76, 110, 157, 201, 25...</td>\n",
       "      <td>5042528606748672</td>\n",
       "      <td>True</td>\n",
       "      <td>2017-03-11 21:58:33.282340</td>\n",
       "      <td>lollipop</td>\n",
       "    </tr>\n",
       "    <tr>\n",
       "      <th>1</th>\n",
       "      <td>FI</td>\n",
       "      <td>[[[61, 65, 67], [98, 106, 255]], [[72, 66, 56,...</td>\n",
       "      <td>5232288554024960</td>\n",
       "      <td>True</td>\n",
       "      <td>2017-01-25 14:49:39.148020</td>\n",
       "      <td>lollipop</td>\n",
       "    </tr>\n",
       "    <tr>\n",
       "      <th>2</th>\n",
       "      <td>US</td>\n",
       "      <td>[[[43, 47, 61, 87, 105, 122, 127, 127, 121, 11...</td>\n",
       "      <td>5645918164484096</td>\n",
       "      <td>True</td>\n",
       "      <td>2017-01-23 20:06:05.529950</td>\n",
       "      <td>lollipop</td>\n",
       "    </tr>\n",
       "    <tr>\n",
       "      <th>3</th>\n",
       "      <td>TW</td>\n",
       "      <td>[[[94, 92, 87, 87, 30, 19, 4, 0, 0, 12, 31, 68...</td>\n",
       "      <td>5447851465244672</td>\n",
       "      <td>True</td>\n",
       "      <td>2017-03-23 11:50:04.544400</td>\n",
       "      <td>lollipop</td>\n",
       "    </tr>\n",
       "    <tr>\n",
       "      <th>4</th>\n",
       "      <td>HK</td>\n",
       "      <td>[[[82, 70, 58, 59, 76, 89, 98, 107, 112, 112, ...</td>\n",
       "      <td>5361063753154560</td>\n",
       "      <td>True</td>\n",
       "      <td>2017-01-24 18:08:47.251220</td>\n",
       "      <td>lollipop</td>\n",
       "    </tr>\n",
       "  </tbody>\n",
       "</table>\n",
       "</div>"
      ],
      "text/plain": [
       "  countrycode                                            drawing  \\\n",
       "0          MD  [[[41, 41, 49, 41, 42], [76, 110, 157, 201, 25...   \n",
       "1          FI  [[[61, 65, 67], [98, 106, 255]], [[72, 66, 56,...   \n",
       "2          US  [[[43, 47, 61, 87, 105, 122, 127, 127, 121, 11...   \n",
       "3          TW  [[[94, 92, 87, 87, 30, 19, 4, 0, 0, 12, 31, 68...   \n",
       "4          HK  [[[82, 70, 58, 59, 76, 89, 98, 107, 112, 112, ...   \n",
       "\n",
       "             key_id  recognized                   timestamp      word  \n",
       "0  5042528606748672        True  2017-03-11 21:58:33.282340  lollipop  \n",
       "1  5232288554024960        True  2017-01-25 14:49:39.148020  lollipop  \n",
       "2  5645918164484096        True  2017-01-23 20:06:05.529950  lollipop  \n",
       "3  5447851465244672        True  2017-03-23 11:50:04.544400  lollipop  \n",
       "4  5361063753154560        True  2017-01-24 18:08:47.251220  lollipop  "
      ]
     },
     "execution_count": 4,
     "metadata": {},
     "output_type": "execute_result"
    }
   ],
   "source": [
    "df.head()"
   ]
  },
  {
   "cell_type": "code",
   "execution_count": 10,
   "metadata": {},
   "outputs": [],
   "source": [
    "BASE_SIZE = 256\n",
    "size = 80"
   ]
  },
  {
   "cell_type": "code",
   "execution_count": 26,
   "metadata": {},
   "outputs": [],
   "source": [
    "import matplotlib.pyplot as plt\n",
    "def draw_cv2(raw_strokes, size=256, lw=6):\n",
    "    fig = plt.figure()\n",
    "    img = np.zeros((BASE_SIZE, BASE_SIZE), np.uint8)\n",
    "    for stroke in raw_strokes:\n",
    "        for i in range(len(stroke[0]) - 1):\n",
    "            _ = cv2.line(img, (stroke[0][i], stroke[1][i]), (stroke[0][i + 1], stroke[1][i + 1]), 255, lw)\n",
    "    if size != BASE_SIZE:\n",
    "        return cv2.resize(img, (size, size))\n",
    "    else:\n",
    "        plt.imshow(img,cmap='gray')\n",
    "        plt.show()\n",
    "        fig.savefig('test.jpg')"
   ]
  },
  {
   "cell_type": "code",
   "execution_count": 27,
   "metadata": {},
   "outputs": [
    {
     "data": {
      "image/png": "[encoded data removed]",
      "text/plain": [
       "<Figure size 432x288 with 1 Axes>"
      ]
     },
     "metadata": {
      "needs_background": "light"
     },
     "output_type": "display_data"
    }
   ],
   "source": [
    "draw_cv2(df['drawing'].iloc[1])"
   ]
  },
  {
   "cell_type": "code",
   "execution_count": 13,
   "metadata": {},
   "outputs": [
    {
     "name": "stdout",
     "output_type": "stream",
     "text": [
      "1 kills 3\n"
     ]
    }
   ],
   "source": [
    "print(\"{0} kills {1}\".format(1,3))"
   ]
  },
  {
   "cell_type": "code",
   "execution_count": null,
   "metadata": {},
   "outputs": [],
   "source": []
  }
 ],
 "metadata": {
  "kernelspec": {
   "display_name": "Python (cs152)",
   "language": "python",
   "name": "cs152"
  },
  "language_info": {
   "codemirror_mode": {
    "name": "ipython",
    "version": 3
   },
   "file_extension": ".py",
   "mimetype": "text/x-python",
   "name": "python",
   "nbconvert_exporter": "python",
   "pygments_lexer": "ipython3",
   "version": "3.6.7"
  }
 },
 "nbformat": 4,
 "nbformat_minor": 2
}
